{
 "cells": [
  {
   "cell_type": "markdown",
   "id": "ce50fd4f",
   "metadata": {},
   "source": [
    "# CNN Model\n"
   ]
  },
  {
   "cell_type": "markdown",
   "id": "a54af6e7",
   "metadata": {},
   "source": [
    "# 1. Import Libraries.\n",
    "\n",
    "In this section we Import some of the initial Libraries we will need."
   ]
  },
  {
   "cell_type": "code",
   "execution_count": 1,
   "id": "09ba318d",
   "metadata": {},
   "outputs": [],
   "source": [
    "import numpy as np\n",
    "import pandas as pd\n",
    "import matplotlib.pyplot as plt\n",
    "import os\n"
   ]
  },
  {
   "cell_type": "markdown",
   "id": "9d02c0c7",
   "metadata": {},
   "source": [
    "# 2. Lets use our Classifier dataset for this model."
   ]
  },
  {
   "cell_type": "markdown",
   "id": "001ad5b1",
   "metadata": {},
   "source": [
    "\"X_Ylabels_17_21.csv\"\n",
    "\n",
    "Binary labels for the years 2017 to 2021 signifying whether each stock outperformed (1) or underperformed (0) the equal weighted Nasdaq 100 that year.\n",
    "\n",
    "See: https://github.com/SheepBoss/Project-on-ML-dataset-and-models-for-stock-performance-predictions-based-on-financial-ratios/blob/main/ML_dataset_for%20Nasdaq100stocks_financial%20ratios_with%20labels.ipynb\n"
   ]
  },
  {
   "cell_type": "code",
   "execution_count": 2,
   "id": "da317fd0",
   "metadata": {},
   "outputs": [
    {
     "data": {
      "text/html": [
       "<div>\n",
       "<style scoped>\n",
       "    .dataframe tbody tr th:only-of-type {\n",
       "        vertical-align: middle;\n",
       "    }\n",
       "\n",
       "    .dataframe tbody tr th {\n",
       "        vertical-align: top;\n",
       "    }\n",
       "\n",
       "    .dataframe thead th {\n",
       "        text-align: right;\n",
       "    }\n",
       "</style>\n",
       "<table border=\"1\" class=\"dataframe\">\n",
       "  <thead>\n",
       "    <tr style=\"text-align: right;\">\n",
       "      <th></th>\n",
       "      <th>asset_turnover</th>\n",
       "      <th>buyback_yield</th>\n",
       "      <th>capex_to_revenue</th>\n",
       "      <th>cash_ratio</th>\n",
       "      <th>cash_to_debt</th>\n",
       "      <th>cogs_to_revenue</th>\n",
       "      <th>mscore</th>\n",
       "      <th>zscore</th>\n",
       "      <th>current_ratio</th>\n",
       "      <th>days_inventory</th>\n",
       "      <th>...</th>\n",
       "      <th>price_to_earnings_ratio_nri</th>\n",
       "      <th>price_earnings_growth_ratio</th>\n",
       "      <th>price_to_free_cashflow</th>\n",
       "      <th>price_to_operating_cashflow</th>\n",
       "      <th>rate_of_return</th>\n",
       "      <th>scaled_net_operating_assets</th>\n",
       "      <th>yoy_ebitda_growth</th>\n",
       "      <th>yoy_eps_growth</th>\n",
       "      <th>yoy_revenue_growth</th>\n",
       "      <th>0</th>\n",
       "    </tr>\n",
       "  </thead>\n",
       "  <tbody>\n",
       "    <tr>\n",
       "      <th>0</th>\n",
       "      <td>0.660000</td>\n",
       "      <td>4.090000</td>\n",
       "      <td>0.050000</td>\n",
       "      <td>0.740000</td>\n",
       "      <td>0.640000</td>\n",
       "      <td>0.620000</td>\n",
       "      <td>-2.500000</td>\n",
       "      <td>3.620000</td>\n",
       "      <td>1.280000</td>\n",
       "      <td>9.040000</td>\n",
       "      <td>...</td>\n",
       "      <td>16.730000</td>\n",
       "      <td>1.250000</td>\n",
       "      <td>15.630000</td>\n",
       "      <td>12.600000</td>\n",
       "      <td>19.240000</td>\n",
       "      <td>0.550000</td>\n",
       "      <td>9.360000</td>\n",
       "      <td>10.830000</td>\n",
       "      <td>11.340000</td>\n",
       "      <td>0</td>\n",
       "    </tr>\n",
       "    <tr>\n",
       "      <th>1</th>\n",
       "      <td>0.724932</td>\n",
       "      <td>2.035574</td>\n",
       "      <td>0.040000</td>\n",
       "      <td>1.410274</td>\n",
       "      <td>2.648413</td>\n",
       "      <td>0.250000</td>\n",
       "      <td>-2.543382</td>\n",
       "      <td>6.686479</td>\n",
       "      <td>2.332192</td>\n",
       "      <td>89.855094</td>\n",
       "      <td>...</td>\n",
       "      <td>44.909524</td>\n",
       "      <td>10.936250</td>\n",
       "      <td>33.836721</td>\n",
       "      <td>35.271493</td>\n",
       "      <td>14.260952</td>\n",
       "      <td>0.482917</td>\n",
       "      <td>26.097361</td>\n",
       "      <td>46.020147</td>\n",
       "      <td>19.277917</td>\n",
       "      <td>0</td>\n",
       "    </tr>\n",
       "    <tr>\n",
       "      <th>2</th>\n",
       "      <td>0.540000</td>\n",
       "      <td>1.080000</td>\n",
       "      <td>0.020000</td>\n",
       "      <td>1.650000</td>\n",
       "      <td>3.090000</td>\n",
       "      <td>0.140000</td>\n",
       "      <td>-2.490000</td>\n",
       "      <td>10.810000</td>\n",
       "      <td>2.050000</td>\n",
       "      <td>89.855094</td>\n",
       "      <td>...</td>\n",
       "      <td>52.320000</td>\n",
       "      <td>2.420000</td>\n",
       "      <td>32.410000</td>\n",
       "      <td>30.420000</td>\n",
       "      <td>21.820000</td>\n",
       "      <td>0.360000</td>\n",
       "      <td>39.030000</td>\n",
       "      <td>45.690000</td>\n",
       "      <td>25.510000</td>\n",
       "      <td>1</td>\n",
       "    </tr>\n",
       "    <tr>\n",
       "      <th>3</th>\n",
       "      <td>0.360000</td>\n",
       "      <td>0.140000</td>\n",
       "      <td>0.040000</td>\n",
       "      <td>0.660000</td>\n",
       "      <td>0.130000</td>\n",
       "      <td>0.400000</td>\n",
       "      <td>-1.490000</td>\n",
       "      <td>2.640000</td>\n",
       "      <td>1.470000</td>\n",
       "      <td>81.440000</td>\n",
       "      <td>...</td>\n",
       "      <td>39.870000</td>\n",
       "      <td>4.440000</td>\n",
       "      <td>33.680000</td>\n",
       "      <td>27.720000</td>\n",
       "      <td>11.950000</td>\n",
       "      <td>2.130000</td>\n",
       "      <td>25.600000</td>\n",
       "      <td>-17.030000</td>\n",
       "      <td>36.640000</td>\n",
       "      <td>0</td>\n",
       "    </tr>\n",
       "    <tr>\n",
       "      <th>4</th>\n",
       "      <td>0.724932</td>\n",
       "      <td>2.035574</td>\n",
       "      <td>0.086892</td>\n",
       "      <td>1.410274</td>\n",
       "      <td>2.648413</td>\n",
       "      <td>0.437534</td>\n",
       "      <td>-2.543382</td>\n",
       "      <td>6.686479</td>\n",
       "      <td>2.332192</td>\n",
       "      <td>89.855094</td>\n",
       "      <td>...</td>\n",
       "      <td>44.909524</td>\n",
       "      <td>10.936250</td>\n",
       "      <td>33.836721</td>\n",
       "      <td>35.271493</td>\n",
       "      <td>14.260952</td>\n",
       "      <td>0.482917</td>\n",
       "      <td>26.097361</td>\n",
       "      <td>46.020147</td>\n",
       "      <td>19.277917</td>\n",
       "      <td>1</td>\n",
       "    </tr>\n",
       "    <tr>\n",
       "      <th>...</th>\n",
       "      <td>...</td>\n",
       "      <td>...</td>\n",
       "      <td>...</td>\n",
       "      <td>...</td>\n",
       "      <td>...</td>\n",
       "      <td>...</td>\n",
       "      <td>...</td>\n",
       "      <td>...</td>\n",
       "      <td>...</td>\n",
       "      <td>...</td>\n",
       "      <td>...</td>\n",
       "      <td>...</td>\n",
       "      <td>...</td>\n",
       "      <td>...</td>\n",
       "      <td>...</td>\n",
       "      <td>...</td>\n",
       "      <td>...</td>\n",
       "      <td>...</td>\n",
       "      <td>...</td>\n",
       "      <td>...</td>\n",
       "      <td>...</td>\n",
       "    </tr>\n",
       "    <tr>\n",
       "      <th>505</th>\n",
       "      <td>1.570000</td>\n",
       "      <td>0.250000</td>\n",
       "      <td>0.010000</td>\n",
       "      <td>0.050000</td>\n",
       "      <td>0.040000</td>\n",
       "      <td>0.790000</td>\n",
       "      <td>-2.260000</td>\n",
       "      <td>2.720000</td>\n",
       "      <td>0.720000</td>\n",
       "      <td>28.090000</td>\n",
       "      <td>...</td>\n",
       "      <td>22.070000</td>\n",
       "      <td>6.195821</td>\n",
       "      <td>10.530000</td>\n",
       "      <td>7.910000</td>\n",
       "      <td>-5.110000</td>\n",
       "      <td>0.640000</td>\n",
       "      <td>65.800000</td>\n",
       "      <td>463.460000</td>\n",
       "      <td>10.370000</td>\n",
       "      <td>0</td>\n",
       "    </tr>\n",
       "    <tr>\n",
       "      <th>506</th>\n",
       "      <td>0.560000</td>\n",
       "      <td>1.733289</td>\n",
       "      <td>0.060000</td>\n",
       "      <td>0.830000</td>\n",
       "      <td>1.580000</td>\n",
       "      <td>0.280000</td>\n",
       "      <td>-3.240000</td>\n",
       "      <td>6.120000</td>\n",
       "      <td>1.120000</td>\n",
       "      <td>83.647794</td>\n",
       "      <td>...</td>\n",
       "      <td>63.153488</td>\n",
       "      <td>6.195821</td>\n",
       "      <td>53.290000</td>\n",
       "      <td>42.510000</td>\n",
       "      <td>12.240260</td>\n",
       "      <td>0.290000</td>\n",
       "      <td>156.700000</td>\n",
       "      <td>43.870000</td>\n",
       "      <td>14.100000</td>\n",
       "      <td>0</td>\n",
       "    </tr>\n",
       "    <tr>\n",
       "      <th>507</th>\n",
       "      <td>0.240000</td>\n",
       "      <td>-0.990000</td>\n",
       "      <td>0.320000</td>\n",
       "      <td>0.030000</td>\n",
       "      <td>0.010000</td>\n",
       "      <td>0.610000</td>\n",
       "      <td>-1.792316</td>\n",
       "      <td>1.030000</td>\n",
       "      <td>0.840000</td>\n",
       "      <td>26.040000</td>\n",
       "      <td>...</td>\n",
       "      <td>22.870000</td>\n",
       "      <td>8.730000</td>\n",
       "      <td>52.026374</td>\n",
       "      <td>16.700000</td>\n",
       "      <td>-1.040000</td>\n",
       "      <td>0.750000</td>\n",
       "      <td>3.480000</td>\n",
       "      <td>6.090000</td>\n",
       "      <td>13.930000</td>\n",
       "      <td>1</td>\n",
       "    </tr>\n",
       "    <tr>\n",
       "      <th>508</th>\n",
       "      <td>0.810000</td>\n",
       "      <td>-1.810000</td>\n",
       "      <td>0.030000</td>\n",
       "      <td>3.370000</td>\n",
       "      <td>40.040000</td>\n",
       "      <td>0.310000</td>\n",
       "      <td>-0.480000</td>\n",
       "      <td>47.500000</td>\n",
       "      <td>3.800000</td>\n",
       "      <td>83.647794</td>\n",
       "      <td>...</td>\n",
       "      <td>165.360000</td>\n",
       "      <td>6.195821</td>\n",
       "      <td>80.070000</td>\n",
       "      <td>75.390000</td>\n",
       "      <td>12.240260</td>\n",
       "      <td>-0.220000</td>\n",
       "      <td>17.709700</td>\n",
       "      <td>52.306596</td>\n",
       "      <td>263.130000</td>\n",
       "      <td>0</td>\n",
       "    </tr>\n",
       "    <tr>\n",
       "      <th>509</th>\n",
       "      <td>0.330000</td>\n",
       "      <td>1.733289</td>\n",
       "      <td>0.090000</td>\n",
       "      <td>2.090000</td>\n",
       "      <td>1.560000</td>\n",
       "      <td>0.220000</td>\n",
       "      <td>-2.670000</td>\n",
       "      <td>11.580000</td>\n",
       "      <td>2.570000</td>\n",
       "      <td>83.647794</td>\n",
       "      <td>...</td>\n",
       "      <td>63.153488</td>\n",
       "      <td>6.195821</td>\n",
       "      <td>222.560000</td>\n",
       "      <td>158.440000</td>\n",
       "      <td>12.240260</td>\n",
       "      <td>-0.010000</td>\n",
       "      <td>-86.740000</td>\n",
       "      <td>-116.850000</td>\n",
       "      <td>48.790000</td>\n",
       "      <td>0</td>\n",
       "    </tr>\n",
       "  </tbody>\n",
       "</table>\n",
       "<p>510 rows × 40 columns</p>\n",
       "</div>"
      ],
      "text/plain": [
       "     asset_turnover  buyback_yield  capex_to_revenue  cash_ratio  \\\n",
       "0          0.660000       4.090000          0.050000    0.740000   \n",
       "1          0.724932       2.035574          0.040000    1.410274   \n",
       "2          0.540000       1.080000          0.020000    1.650000   \n",
       "3          0.360000       0.140000          0.040000    0.660000   \n",
       "4          0.724932       2.035574          0.086892    1.410274   \n",
       "..              ...            ...               ...         ...   \n",
       "505        1.570000       0.250000          0.010000    0.050000   \n",
       "506        0.560000       1.733289          0.060000    0.830000   \n",
       "507        0.240000      -0.990000          0.320000    0.030000   \n",
       "508        0.810000      -1.810000          0.030000    3.370000   \n",
       "509        0.330000       1.733289          0.090000    2.090000   \n",
       "\n",
       "     cash_to_debt  cogs_to_revenue    mscore     zscore  current_ratio  \\\n",
       "0        0.640000         0.620000 -2.500000   3.620000       1.280000   \n",
       "1        2.648413         0.250000 -2.543382   6.686479       2.332192   \n",
       "2        3.090000         0.140000 -2.490000  10.810000       2.050000   \n",
       "3        0.130000         0.400000 -1.490000   2.640000       1.470000   \n",
       "4        2.648413         0.437534 -2.543382   6.686479       2.332192   \n",
       "..            ...              ...       ...        ...            ...   \n",
       "505      0.040000         0.790000 -2.260000   2.720000       0.720000   \n",
       "506      1.580000         0.280000 -3.240000   6.120000       1.120000   \n",
       "507      0.010000         0.610000 -1.792316   1.030000       0.840000   \n",
       "508     40.040000         0.310000 -0.480000  47.500000       3.800000   \n",
       "509      1.560000         0.220000 -2.670000  11.580000       2.570000   \n",
       "\n",
       "     days_inventory  ...  price_to_earnings_ratio_nri  \\\n",
       "0          9.040000  ...                    16.730000   \n",
       "1         89.855094  ...                    44.909524   \n",
       "2         89.855094  ...                    52.320000   \n",
       "3         81.440000  ...                    39.870000   \n",
       "4         89.855094  ...                    44.909524   \n",
       "..              ...  ...                          ...   \n",
       "505       28.090000  ...                    22.070000   \n",
       "506       83.647794  ...                    63.153488   \n",
       "507       26.040000  ...                    22.870000   \n",
       "508       83.647794  ...                   165.360000   \n",
       "509       83.647794  ...                    63.153488   \n",
       "\n",
       "     price_earnings_growth_ratio  price_to_free_cashflow  \\\n",
       "0                       1.250000               15.630000   \n",
       "1                      10.936250               33.836721   \n",
       "2                       2.420000               32.410000   \n",
       "3                       4.440000               33.680000   \n",
       "4                      10.936250               33.836721   \n",
       "..                           ...                     ...   \n",
       "505                     6.195821               10.530000   \n",
       "506                     6.195821               53.290000   \n",
       "507                     8.730000               52.026374   \n",
       "508                     6.195821               80.070000   \n",
       "509                     6.195821              222.560000   \n",
       "\n",
       "     price_to_operating_cashflow  rate_of_return  scaled_net_operating_assets  \\\n",
       "0                      12.600000       19.240000                     0.550000   \n",
       "1                      35.271493       14.260952                     0.482917   \n",
       "2                      30.420000       21.820000                     0.360000   \n",
       "3                      27.720000       11.950000                     2.130000   \n",
       "4                      35.271493       14.260952                     0.482917   \n",
       "..                           ...             ...                          ...   \n",
       "505                     7.910000       -5.110000                     0.640000   \n",
       "506                    42.510000       12.240260                     0.290000   \n",
       "507                    16.700000       -1.040000                     0.750000   \n",
       "508                    75.390000       12.240260                    -0.220000   \n",
       "509                   158.440000       12.240260                    -0.010000   \n",
       "\n",
       "     yoy_ebitda_growth  yoy_eps_growth  yoy_revenue_growth  0  \n",
       "0             9.360000       10.830000           11.340000  0  \n",
       "1            26.097361       46.020147           19.277917  0  \n",
       "2            39.030000       45.690000           25.510000  1  \n",
       "3            25.600000      -17.030000           36.640000  0  \n",
       "4            26.097361       46.020147           19.277917  1  \n",
       "..                 ...             ...                 ... ..  \n",
       "505          65.800000      463.460000           10.370000  0  \n",
       "506         156.700000       43.870000           14.100000  0  \n",
       "507           3.480000        6.090000           13.930000  1  \n",
       "508          17.709700       52.306596          263.130000  0  \n",
       "509         -86.740000     -116.850000           48.790000  0  \n",
       "\n",
       "[510 rows x 40 columns]"
      ]
     },
     "execution_count": 2,
     "metadata": {},
     "output_type": "execute_result"
    }
   ],
   "source": [
    "X_Y = pd.read_csv(\"X_Ylabels_17_21.csv\")\n",
    "X_Y\n",
    "\n"
   ]
  },
  {
   "cell_type": "markdown",
   "id": "b32144a9",
   "metadata": {},
   "source": [
    "# Model: Convolutional Neural Network"
   ]
  },
  {
   "cell_type": "markdown",
   "id": "ffd74108",
   "metadata": {},
   "source": [
    "\n"
   ]
  },
  {
   "cell_type": "code",
   "execution_count": 3,
   "id": "c6fda3b4",
   "metadata": {},
   "outputs": [
    {
     "name": "stdout",
     "output_type": "stream",
     "text": [
      "Requirement already satisfied: tensorflow in c:\\users\\mark\\anaconda3\\lib\\site-packages (2.11.0)\n",
      "Requirement already satisfied: tensorflow-intel==2.11.0 in c:\\users\\mark\\anaconda3\\lib\\site-packages (from tensorflow) (2.11.0)\n",
      "Requirement already satisfied: termcolor>=1.1.0 in c:\\users\\mark\\anaconda3\\lib\\site-packages (from tensorflow-intel==2.11.0->tensorflow) (2.2.0)\n",
      "Requirement already satisfied: google-pasta>=0.1.1 in c:\\users\\mark\\anaconda3\\lib\\site-packages (from tensorflow-intel==2.11.0->tensorflow) (0.2.0)\n",
      "Requirement already satisfied: typing-extensions>=3.6.6 in c:\\users\\mark\\anaconda3\\lib\\site-packages (from tensorflow-intel==2.11.0->tensorflow) (3.10.0.2)\n",
      "Requirement already satisfied: tensorboard<2.12,>=2.11 in c:\\users\\mark\\anaconda3\\lib\\site-packages (from tensorflow-intel==2.11.0->tensorflow) (2.11.2)\n",
      "Requirement already satisfied: numpy>=1.20 in c:\\users\\mark\\anaconda3\\lib\\site-packages (from tensorflow-intel==2.11.0->tensorflow) (1.20.3)\n",
      "Requirement already satisfied: opt-einsum>=2.3.2 in c:\\users\\mark\\anaconda3\\lib\\site-packages (from tensorflow-intel==2.11.0->tensorflow) (3.3.0)\n",
      "Requirement already satisfied: tensorflow-io-gcs-filesystem>=0.23.1 in c:\\users\\mark\\anaconda3\\lib\\site-packages (from tensorflow-intel==2.11.0->tensorflow) (0.31.0)\n",
      "Requirement already satisfied: setuptools in c:\\users\\mark\\anaconda3\\lib\\site-packages (from tensorflow-intel==2.11.0->tensorflow) (58.0.4)\n",
      "Requirement already satisfied: h5py>=2.9.0 in c:\\users\\mark\\anaconda3\\lib\\site-packages (from tensorflow-intel==2.11.0->tensorflow) (3.2.1)\n",
      "Requirement already satisfied: absl-py>=1.0.0 in c:\\users\\mark\\anaconda3\\lib\\site-packages (from tensorflow-intel==2.11.0->tensorflow) (1.4.0)\n",
      "Requirement already satisfied: six>=1.12.0 in c:\\users\\mark\\anaconda3\\lib\\site-packages (from tensorflow-intel==2.11.0->tensorflow) (1.16.0)\n",
      "Requirement already satisfied: gast<=0.4.0,>=0.2.1 in c:\\users\\mark\\anaconda3\\lib\\site-packages (from tensorflow-intel==2.11.0->tensorflow) (0.4.0)\n",
      "Requirement already satisfied: keras<2.12,>=2.11.0 in c:\\users\\mark\\anaconda3\\lib\\site-packages (from tensorflow-intel==2.11.0->tensorflow) (2.11.0)\n",
      "Requirement already satisfied: protobuf<3.20,>=3.9.2 in c:\\users\\mark\\anaconda3\\lib\\site-packages (from tensorflow-intel==2.11.0->tensorflow) (3.19.6)\n",
      "Requirement already satisfied: tensorflow-estimator<2.12,>=2.11.0 in c:\\users\\mark\\anaconda3\\lib\\site-packages (from tensorflow-intel==2.11.0->tensorflow) (2.11.0)\n",
      "Requirement already satisfied: libclang>=13.0.0 in c:\\users\\mark\\anaconda3\\lib\\site-packages (from tensorflow-intel==2.11.0->tensorflow) (15.0.6.1)\n",
      "Requirement already satisfied: grpcio<2.0,>=1.24.3 in c:\\users\\mark\\anaconda3\\lib\\site-packages (from tensorflow-intel==2.11.0->tensorflow) (1.51.3)\n",
      "Requirement already satisfied: packaging in c:\\users\\mark\\anaconda3\\lib\\site-packages (from tensorflow-intel==2.11.0->tensorflow) (21.0)\n",
      "Requirement already satisfied: flatbuffers>=2.0 in c:\\users\\mark\\anaconda3\\lib\\site-packages (from tensorflow-intel==2.11.0->tensorflow) (23.3.3)\n",
      "Requirement already satisfied: wrapt>=1.11.0 in c:\\users\\mark\\anaconda3\\lib\\site-packages (from tensorflow-intel==2.11.0->tensorflow) (1.12.1)\n",
      "Requirement already satisfied: astunparse>=1.6.0 in c:\\users\\mark\\anaconda3\\lib\\site-packages (from tensorflow-intel==2.11.0->tensorflow) (1.6.3)\n",
      "Requirement already satisfied: wheel<1.0,>=0.23.0 in c:\\users\\mark\\anaconda3\\lib\\site-packages (from astunparse>=1.6.0->tensorflow-intel==2.11.0->tensorflow) (0.37.0)\n",
      "Requirement already satisfied: google-auth-oauthlib<0.5,>=0.4.1 in c:\\users\\mark\\anaconda3\\lib\\site-packages (from tensorboard<2.12,>=2.11->tensorflow-intel==2.11.0->tensorflow) (0.4.6)\n",
      "Requirement already satisfied: tensorboard-data-server<0.7.0,>=0.6.0 in c:\\users\\mark\\anaconda3\\lib\\site-packages (from tensorboard<2.12,>=2.11->tensorflow-intel==2.11.0->tensorflow) (0.6.1)\n",
      "Requirement already satisfied: markdown>=2.6.8 in c:\\users\\mark\\anaconda3\\lib\\site-packages (from tensorboard<2.12,>=2.11->tensorflow-intel==2.11.0->tensorflow) (3.4.1)\n",
      "Requirement already satisfied: requests<3,>=2.21.0 in c:\\users\\mark\\anaconda3\\lib\\site-packages (from tensorboard<2.12,>=2.11->tensorflow-intel==2.11.0->tensorflow) (2.26.0)\n",
      "Requirement already satisfied: tensorboard-plugin-wit>=1.6.0 in c:\\users\\mark\\anaconda3\\lib\\site-packages (from tensorboard<2.12,>=2.11->tensorflow-intel==2.11.0->tensorflow) (1.8.1)\n",
      "Requirement already satisfied: google-auth<3,>=1.6.3 in c:\\users\\mark\\anaconda3\\lib\\site-packages (from tensorboard<2.12,>=2.11->tensorflow-intel==2.11.0->tensorflow) (2.16.2)\n",
      "Requirement already satisfied: werkzeug>=1.0.1 in c:\\users\\mark\\anaconda3\\lib\\site-packages (from tensorboard<2.12,>=2.11->tensorflow-intel==2.11.0->tensorflow) (2.0.2)\n",
      "Requirement already satisfied: cachetools<6.0,>=2.0.0 in c:\\users\\mark\\anaconda3\\lib\\site-packages (from google-auth<3,>=1.6.3->tensorboard<2.12,>=2.11->tensorflow-intel==2.11.0->tensorflow) (5.3.0)\n",
      "Requirement already satisfied: pyasn1-modules>=0.2.1 in c:\\users\\mark\\anaconda3\\lib\\site-packages (from google-auth<3,>=1.6.3->tensorboard<2.12,>=2.11->tensorflow-intel==2.11.0->tensorflow) (0.2.8)\n",
      "Requirement already satisfied: rsa<5,>=3.1.4 in c:\\users\\mark\\anaconda3\\lib\\site-packages (from google-auth<3,>=1.6.3->tensorboard<2.12,>=2.11->tensorflow-intel==2.11.0->tensorflow) (4.9)\n",
      "Requirement already satisfied: requests-oauthlib>=0.7.0 in c:\\users\\mark\\anaconda3\\lib\\site-packages (from google-auth-oauthlib<0.5,>=0.4.1->tensorboard<2.12,>=2.11->tensorflow-intel==2.11.0->tensorflow) (1.3.1)\n",
      "Requirement already satisfied: importlib-metadata>=4.4 in c:\\users\\mark\\anaconda3\\lib\\site-packages (from markdown>=2.6.8->tensorboard<2.12,>=2.11->tensorflow-intel==2.11.0->tensorflow) (4.8.1)\n",
      "Requirement already satisfied: zipp>=0.5 in c:\\users\\mark\\anaconda3\\lib\\site-packages (from importlib-metadata>=4.4->markdown>=2.6.8->tensorboard<2.12,>=2.11->tensorflow-intel==2.11.0->tensorflow) (3.6.0)\n",
      "Requirement already satisfied: pyasn1<0.5.0,>=0.4.6 in c:\\users\\mark\\anaconda3\\lib\\site-packages (from pyasn1-modules>=0.2.1->google-auth<3,>=1.6.3->tensorboard<2.12,>=2.11->tensorflow-intel==2.11.0->tensorflow) (0.4.8)\n",
      "Requirement already satisfied: certifi>=2017.4.17 in c:\\users\\mark\\anaconda3\\lib\\site-packages (from requests<3,>=2.21.0->tensorboard<2.12,>=2.11->tensorflow-intel==2.11.0->tensorflow) (2022.12.7)\n",
      "Requirement already satisfied: urllib3<1.27,>=1.21.1 in c:\\users\\mark\\anaconda3\\lib\\site-packages (from requests<3,>=2.21.0->tensorboard<2.12,>=2.11->tensorflow-intel==2.11.0->tensorflow) (1.26.7)\n",
      "Requirement already satisfied: idna<4,>=2.5 in c:\\users\\mark\\anaconda3\\lib\\site-packages (from requests<3,>=2.21.0->tensorboard<2.12,>=2.11->tensorflow-intel==2.11.0->tensorflow) (3.2)\n",
      "Requirement already satisfied: charset-normalizer~=2.0.0 in c:\\users\\mark\\anaconda3\\lib\\site-packages (from requests<3,>=2.21.0->tensorboard<2.12,>=2.11->tensorflow-intel==2.11.0->tensorflow) (2.0.4)\n",
      "Requirement already satisfied: oauthlib>=3.0.0 in c:\\users\\mark\\anaconda3\\lib\\site-packages (from requests-oauthlib>=0.7.0->google-auth-oauthlib<0.5,>=0.4.1->tensorboard<2.12,>=2.11->tensorflow-intel==2.11.0->tensorflow) (3.2.2)\n",
      "Requirement already satisfied: pyparsing>=2.0.2 in c:\\users\\mark\\anaconda3\\lib\\site-packages (from packaging->tensorflow-intel==2.11.0->tensorflow) (3.0.4)\n"
     ]
    }
   ],
   "source": [
    "!pip install tensorflow"
   ]
  },
  {
   "cell_type": "code",
   "execution_count": 4,
   "id": "54fd5f4a",
   "metadata": {},
   "outputs": [],
   "source": [
    "import tensorflow as tf\n",
    "\n",
    "from tensorflow import keras\n",
    "from tensorflow.keras.layers import *\n",
    "from tensorflow.keras import layers, Sequential, optimizers, metrics\n",
    "from keras.layers import Dense, Dropout, Flatten\n",
    "from keras.layers import Conv2D, MaxPooling2D, BatchNormalization\n",
    "from tensorflow.keras.models import Sequential\n",
    "from tensorflow.keras.layers import Conv1D, MaxPooling1D, Flatten, Dense, Dropout, LeakyReLU\n",
    "from sklearn.metrics import accuracy_score\n",
    "from sklearn.preprocessing import StandardScaler\n",
    "\n",
    "import numpy as np\n",
    "import os\n",
    "import tempfile\n",
    "import json\n",
    "import glob\n",
    "import pathlib\n",
    "from PIL import Image\n",
    "\n",
    "import matplotlib as mpl\n",
    "import matplotlib.pyplot as plt\n",
    "\n",
    "import sklearn.metrics\n",
    "import random\n",
    "import collections"
   ]
  },
  {
   "cell_type": "markdown",
   "id": "ef63e914",
   "metadata": {},
   "source": [
    "# Methodology: Shuffle and Split the data into X and y\n",
    "\n"
   ]
  },
  {
   "cell_type": "code",
   "execution_count": 5,
   "id": "84ae9255",
   "metadata": {},
   "outputs": [],
   "source": [
    "df_shuffled = X_Y.iloc[np.random.permutation(len(X_Y))]\n",
    "\n",
    "num_rows = len(df_shuffled)\n",
    "df_train = df_shuffled[:int(num_rows * 0.85)]\n",
    "df_test = df_shuffled[int(num_rows * 0.85):]\n"
   ]
  },
  {
   "cell_type": "code",
   "execution_count": 6,
   "id": "1b3635d3",
   "metadata": {},
   "outputs": [],
   "source": [
    "Xcnn_train = df_train.iloc[:,:-1]\n",
    "Ycnn_train = df_train.iloc[:,-1]\n",
    "Xcnn_test = df_test.iloc[:,:-1]\n",
    "Ycnn_test = df_test.iloc[:,-1]"
   ]
  },
  {
   "cell_type": "code",
   "execution_count": 7,
   "id": "5662d816",
   "metadata": {},
   "outputs": [],
   "source": [
    "# Fit the scaler on the  data\n",
    "scaler = StandardScaler().fit(Xcnn_train)\n",
    "Xcnn_train = scaler.transform(Xcnn_train)\n",
    "Xcnn_test = scaler.transform(Xcnn_test)\n"
   ]
  },
  {
   "cell_type": "code",
   "execution_count": 8,
   "id": "1a84e306",
   "metadata": {},
   "outputs": [],
   "source": [
    "        from tensorflow.python.ops.numpy_ops import np_config\n",
    "        np_config.enable_numpy_behavior()"
   ]
  },
  {
   "cell_type": "code",
   "execution_count": 9,
   "id": "226c7f43",
   "metadata": {},
   "outputs": [],
   "source": [
    "Xcnn_train_reshaped = Xcnn_train.reshape(Xcnn_train.shape[0], -1)\n",
    "Xcnn_test_reshaped = Xcnn_test.reshape(Xcnn_test.shape[0], -1)\n",
    "\n",
    "# Apply normalization to the training and test data\n",
    "Xcnn_train_normalized = scaler.transform(Xcnn_train_reshaped)\n",
    "Xcnn_test_normalized = scaler.transform(Xcnn_test_reshaped)\n",
    "\n",
    "# Reshape the normalized data back to the original shape\n",
    "Xcnn_train_normalized = Xcnn_train_normalized.reshape(Xcnn_train.shape)\n",
    "Xcnn_test_normalized = Xcnn_test_normalized.reshape(Xcnn_test.shape)"
   ]
  },
  {
   "cell_type": "markdown",
   "id": "dda0d0c0",
   "metadata": {},
   "source": [
    "# Methodology: Convert data to Tensors"
   ]
  },
  {
   "cell_type": "code",
   "execution_count": 10,
   "id": "e388d201",
   "metadata": {},
   "outputs": [],
   "source": [
    "Xcnn_train = tf.convert_to_tensor(Xcnn_train_normalized)\n",
    "Ycnn_train = tf.convert_to_tensor(Ycnn_train)\n",
    "Xcnn_test = tf.convert_to_tensor(Xcnn_test_normalized)\n",
    "Ycnn_test = tf.convert_to_tensor(Ycnn_test)"
   ]
  },
  {
   "cell_type": "code",
   "execution_count": 11,
   "id": "40449844",
   "metadata": {},
   "outputs": [],
   "source": [
    "Xcnn_train = tf.reshape(Xcnn_train,[433,1,39])"
   ]
  },
  {
   "cell_type": "code",
   "execution_count": 12,
   "id": "2653d977",
   "metadata": {},
   "outputs": [
    {
     "data": {
      "text/plain": [
       "TensorShape([433, 1, 39])"
      ]
     },
     "execution_count": 12,
     "metadata": {},
     "output_type": "execute_result"
    }
   ],
   "source": [
    "Xcnn_train.shape"
   ]
  },
  {
   "cell_type": "code",
   "execution_count": 13,
   "id": "90bc4a53",
   "metadata": {},
   "outputs": [
    {
     "data": {
      "text/plain": [
       "TensorShape([433])"
      ]
     },
     "execution_count": 13,
     "metadata": {},
     "output_type": "execute_result"
    }
   ],
   "source": [
    "Ycnn_train.shape"
   ]
  },
  {
   "cell_type": "code",
   "execution_count": 14,
   "id": "6a11d1b0",
   "metadata": {},
   "outputs": [
    {
     "data": {
      "text/plain": [
       "TensorShape([77, 39])"
      ]
     },
     "execution_count": 14,
     "metadata": {},
     "output_type": "execute_result"
    }
   ],
   "source": [
    "Xcnn_test.shape\n"
   ]
  },
  {
   "cell_type": "code",
   "execution_count": 15,
   "id": "dfd967ed",
   "metadata": {},
   "outputs": [],
   "source": [
    "Xcnn_test = tf.reshape(Xcnn_test,[77,1,39])"
   ]
  },
  {
   "cell_type": "code",
   "execution_count": 16,
   "id": "949d76a2",
   "metadata": {},
   "outputs": [
    {
     "data": {
      "text/plain": [
       "TensorShape([77])"
      ]
     },
     "execution_count": 16,
     "metadata": {},
     "output_type": "execute_result"
    }
   ],
   "source": [
    "Ycnn_test.shape"
   ]
  },
  {
   "cell_type": "markdown",
   "id": "b66a82f3",
   "metadata": {},
   "source": [
    "# Model 2: Initial Test"
   ]
  },
  {
   "cell_type": "code",
   "execution_count": 17,
   "id": "c3b9108b",
   "metadata": {},
   "outputs": [
    {
     "name": "stdout",
     "output_type": "stream",
     "text": [
      "Model: \"sequential\"\n",
      "_________________________________________________________________\n",
      " Layer (type)                Output Shape              Param #   \n",
      "=================================================================\n",
      " conv1d (Conv1D)             (None, 1, 32)             6272      \n",
      "                                                                 \n",
      " leaky_re_lu (LeakyReLU)     (None, 1, 32)             0         \n",
      "                                                                 \n",
      " conv1d_1 (Conv1D)           (None, 1, 32)             5152      \n",
      "                                                                 \n",
      " leaky_re_lu_1 (LeakyReLU)   (None, 1, 32)             0         \n",
      "                                                                 \n",
      " max_pooling1d (MaxPooling1D  (None, 1, 32)            0         \n",
      " )                                                               \n",
      "                                                                 \n",
      " conv1d_2 (Conv1D)           (None, 1, 32)             5152      \n",
      "                                                                 \n",
      " leaky_re_lu_2 (LeakyReLU)   (None, 1, 32)             0         \n",
      "                                                                 \n",
      " conv1d_3 (Conv1D)           (None, 1, 64)             14400     \n",
      "                                                                 \n",
      " leaky_re_lu_3 (LeakyReLU)   (None, 1, 64)             0         \n",
      "                                                                 \n",
      " max_pooling1d_1 (MaxPooling  (None, 1, 64)            0         \n",
      " 1D)                                                             \n",
      "                                                                 \n",
      " conv1d_4 (Conv1D)           (None, 1, 64)             28736     \n",
      "                                                                 \n",
      " leaky_re_lu_4 (LeakyReLU)   (None, 1, 64)             0         \n",
      "                                                                 \n",
      " conv1d_5 (Conv1D)           (None, 1, 64)             28736     \n",
      "                                                                 \n",
      " leaky_re_lu_5 (LeakyReLU)   (None, 1, 64)             0         \n",
      "                                                                 \n",
      " flatten (Flatten)           (None, 64)                0         \n",
      "                                                                 \n",
      " dropout (Dropout)           (None, 64)                0         \n",
      "                                                                 \n",
      " dense (Dense)               (None, 1)                 65        \n",
      "                                                                 \n",
      "=================================================================\n",
      "Total params: 88,513\n",
      "Trainable params: 88,513\n",
      "Non-trainable params: 0\n",
      "_________________________________________________________________\n"
     ]
    }
   ],
   "source": [
    "model2 = Sequential([\n",
    "    Conv1D(filters=32, kernel_size=5, input_shape=(1, 39), padding='same'),\n",
    "    LeakyReLU(),\n",
    "    Conv1D(filters=32, kernel_size=5, padding='same'),\n",
    "    LeakyReLU(),\n",
    "    MaxPooling1D(pool_size=1),\n",
    "    Conv1D(filters=32, kernel_size=5, padding='same'),\n",
    "    LeakyReLU(),\n",
    "    Conv1D(filters=64, kernel_size=7, padding='same'),\n",
    "    LeakyReLU(),\n",
    "    MaxPooling1D(pool_size=1),\n",
    "    Conv1D(filters=64, kernel_size=7, padding='same'),\n",
    "    LeakyReLU(),\n",
    "    Conv1D(filters=64, kernel_size=7, padding='same'),\n",
    "    LeakyReLU(),\n",
    "    Flatten(),\n",
    "    Dropout(0.3),\n",
    "    Dense(1, activation='sigmoid')\n",
    "])\n",
    "\n",
    "model2.summary()"
   ]
  },
  {
   "cell_type": "code",
   "execution_count": 18,
   "id": "06697caa",
   "metadata": {},
   "outputs": [],
   "source": [
    "from tensorflow.keras.optimizers import Adam\n",
    "\n",
    "learning_rate = 0.001\n",
    "\n",
    "optimizer = Adam(learning_rate=learning_rate)\n",
    "\n",
    "model2.compile(optimizer=optimizer, loss='binary_crossentropy', metrics=['accuracy'])\n",
    "\n",
    "#Note: We tried a 'hinge' loss optimizer too.\n",
    "#model2.compile(optimizer=optimizer, loss='hinge', metrics=['accuracy'])"
   ]
  },
  {
   "cell_type": "code",
   "execution_count": 19,
   "id": "cb44b1a0",
   "metadata": {},
   "outputs": [
    {
     "name": "stdout",
     "output_type": "stream",
     "text": [
      "Epoch 1/100\n",
      "14/14 [==============================] - 1s 3ms/step - loss: 0.6905 - accuracy: 0.5566\n",
      "Epoch 2/100\n",
      "14/14 [==============================] - 0s 2ms/step - loss: 0.6847 - accuracy: 0.5704\n",
      "Epoch 3/100\n",
      "14/14 [==============================] - 0s 2ms/step - loss: 0.6798 - accuracy: 0.5704\n",
      "Epoch 4/100\n",
      "14/14 [==============================] - 0s 2ms/step - loss: 0.6811 - accuracy: 0.5704\n",
      "Epoch 5/100\n",
      "14/14 [==============================] - 0s 2ms/step - loss: 0.6768 - accuracy: 0.5727\n",
      "Epoch 6/100\n",
      "14/14 [==============================] - 0s 2ms/step - loss: 0.6791 - accuracy: 0.5751\n",
      "Epoch 7/100\n",
      "14/14 [==============================] - 0s 2ms/step - loss: 0.6770 - accuracy: 0.5774\n",
      "Epoch 8/100\n",
      "14/14 [==============================] - 0s 2ms/step - loss: 0.6709 - accuracy: 0.5774\n",
      "Epoch 9/100\n",
      "14/14 [==============================] - 0s 2ms/step - loss: 0.6708 - accuracy: 0.5751\n",
      "Epoch 10/100\n",
      "14/14 [==============================] - 0s 2ms/step - loss: 0.6675 - accuracy: 0.5774\n",
      "Epoch 11/100\n",
      "14/14 [==============================] - 0s 2ms/step - loss: 0.6694 - accuracy: 0.5843\n",
      "Epoch 12/100\n",
      "14/14 [==============================] - 0s 2ms/step - loss: 0.6667 - accuracy: 0.5797\n",
      "Epoch 13/100\n",
      "14/14 [==============================] - 0s 2ms/step - loss: 0.6618 - accuracy: 0.5843\n",
      "Epoch 14/100\n",
      "14/14 [==============================] - 0s 2ms/step - loss: 0.6647 - accuracy: 0.6074\n",
      "Epoch 15/100\n",
      "14/14 [==============================] - 0s 2ms/step - loss: 0.6576 - accuracy: 0.5889\n",
      "Epoch 16/100\n",
      "14/14 [==============================] - 0s 2ms/step - loss: 0.6611 - accuracy: 0.5820\n",
      "Epoch 17/100\n",
      "14/14 [==============================] - 0s 2ms/step - loss: 0.6556 - accuracy: 0.6166\n",
      "Epoch 18/100\n",
      "14/14 [==============================] - 0s 2ms/step - loss: 0.6583 - accuracy: 0.5889\n",
      "Epoch 19/100\n",
      "14/14 [==============================] - 0s 2ms/step - loss: 0.6630 - accuracy: 0.5751\n",
      "Epoch 20/100\n",
      "14/14 [==============================] - 0s 2ms/step - loss: 0.6511 - accuracy: 0.6120\n",
      "Epoch 21/100\n",
      "14/14 [==============================] - 0s 2ms/step - loss: 0.6500 - accuracy: 0.6212\n",
      "Epoch 22/100\n",
      "14/14 [==============================] - 0s 2ms/step - loss: 0.6408 - accuracy: 0.6236\n",
      "Epoch 23/100\n",
      "14/14 [==============================] - 0s 2ms/step - loss: 0.6380 - accuracy: 0.6467\n",
      "Epoch 24/100\n",
      "14/14 [==============================] - 0s 2ms/step - loss: 0.6285 - accuracy: 0.6490\n",
      "Epoch 25/100\n",
      "14/14 [==============================] - 0s 2ms/step - loss: 0.6290 - accuracy: 0.6536\n",
      "Epoch 26/100\n",
      "14/14 [==============================] - 0s 2ms/step - loss: 0.6615 - accuracy: 0.6074\n",
      "Epoch 27/100\n",
      "14/14 [==============================] - 0s 2ms/step - loss: 0.6365 - accuracy: 0.6189\n",
      "Epoch 28/100\n",
      "14/14 [==============================] - 0s 2ms/step - loss: 0.6236 - accuracy: 0.6374\n",
      "Epoch 29/100\n",
      "14/14 [==============================] - 0s 2ms/step - loss: 0.6295 - accuracy: 0.6374\n",
      "Epoch 30/100\n",
      "14/14 [==============================] - 0s 2ms/step - loss: 0.6407 - accuracy: 0.6212\n",
      "Epoch 31/100\n",
      "14/14 [==============================] - 0s 2ms/step - loss: 0.6190 - accuracy: 0.6397\n",
      "Epoch 32/100\n",
      "14/14 [==============================] - 0s 2ms/step - loss: 0.6104 - accuracy: 0.6651\n",
      "Epoch 33/100\n",
      "14/14 [==============================] - 0s 2ms/step - loss: 0.6249 - accuracy: 0.6513\n",
      "Epoch 34/100\n",
      "14/14 [==============================] - 0s 2ms/step - loss: 0.6090 - accuracy: 0.6721\n",
      "Epoch 35/100\n",
      "14/14 [==============================] - 0s 2ms/step - loss: 0.6123 - accuracy: 0.6721\n",
      "Epoch 36/100\n",
      "14/14 [==============================] - 0s 2ms/step - loss: 0.6242 - accuracy: 0.6513\n",
      "Epoch 37/100\n",
      "14/14 [==============================] - 0s 2ms/step - loss: 0.6143 - accuracy: 0.6628\n",
      "Epoch 38/100\n",
      "14/14 [==============================] - 0s 2ms/step - loss: 0.6031 - accuracy: 0.6513\n",
      "Epoch 39/100\n",
      "14/14 [==============================] - 0s 2ms/step - loss: 0.5992 - accuracy: 0.6397\n",
      "Epoch 40/100\n",
      "14/14 [==============================] - 0s 2ms/step - loss: 0.6239 - accuracy: 0.6374\n",
      "Epoch 41/100\n",
      "14/14 [==============================] - 0s 2ms/step - loss: 0.6020 - accuracy: 0.6536\n",
      "Epoch 42/100\n",
      "14/14 [==============================] - 0s 2ms/step - loss: 0.5917 - accuracy: 0.6767\n",
      "Epoch 43/100\n",
      "14/14 [==============================] - 0s 2ms/step - loss: 0.5843 - accuracy: 0.6859\n",
      "Epoch 44/100\n",
      "14/14 [==============================] - 0s 2ms/step - loss: 0.6005 - accuracy: 0.6559\n",
      "Epoch 45/100\n",
      "14/14 [==============================] - 0s 2ms/step - loss: 0.5958 - accuracy: 0.6790\n",
      "Epoch 46/100\n",
      "14/14 [==============================] - 0s 2ms/step - loss: 0.5788 - accuracy: 0.6836\n",
      "Epoch 47/100\n",
      "14/14 [==============================] - 0s 2ms/step - loss: 0.6039 - accuracy: 0.6490\n",
      "Epoch 48/100\n",
      "14/14 [==============================] - 0s 2ms/step - loss: 0.5747 - accuracy: 0.6882\n",
      "Epoch 49/100\n",
      "14/14 [==============================] - 0s 2ms/step - loss: 0.5659 - accuracy: 0.6928\n",
      "Epoch 50/100\n",
      "14/14 [==============================] - 0s 2ms/step - loss: 0.5774 - accuracy: 0.6790\n",
      "Epoch 51/100\n",
      "14/14 [==============================] - 0s 2ms/step - loss: 0.6251 - accuracy: 0.6166\n",
      "Epoch 52/100\n",
      "14/14 [==============================] - 0s 2ms/step - loss: 0.5863 - accuracy: 0.6928\n",
      "Epoch 53/100\n",
      "14/14 [==============================] - 0s 2ms/step - loss: 0.5603 - accuracy: 0.6952\n",
      "Epoch 54/100\n",
      "14/14 [==============================] - 0s 2ms/step - loss: 0.5717 - accuracy: 0.6952\n",
      "Epoch 55/100\n",
      "14/14 [==============================] - 0s 2ms/step - loss: 0.5542 - accuracy: 0.7021\n",
      "Epoch 56/100\n",
      "14/14 [==============================] - 0s 2ms/step - loss: 0.5544 - accuracy: 0.7113\n",
      "Epoch 57/100\n",
      "14/14 [==============================] - 0s 2ms/step - loss: 0.5504 - accuracy: 0.7136\n",
      "Epoch 58/100\n",
      "14/14 [==============================] - 0s 3ms/step - loss: 0.5477 - accuracy: 0.7113\n",
      "Epoch 59/100\n",
      "14/14 [==============================] - 0s 2ms/step - loss: 0.5501 - accuracy: 0.6952\n",
      "Epoch 60/100\n",
      "14/14 [==============================] - 0s 2ms/step - loss: 0.6611 - accuracy: 0.7044\n",
      "Epoch 61/100\n",
      "14/14 [==============================] - 0s 2ms/step - loss: 0.5892 - accuracy: 0.6605\n",
      "Epoch 62/100\n",
      "14/14 [==============================] - 0s 2ms/step - loss: 0.5675 - accuracy: 0.7067\n",
      "Epoch 63/100\n",
      "14/14 [==============================] - 0s 2ms/step - loss: 0.5583 - accuracy: 0.7090\n",
      "Epoch 64/100\n",
      "14/14 [==============================] - 0s 2ms/step - loss: 0.5546 - accuracy: 0.7021\n",
      "Epoch 65/100\n",
      "14/14 [==============================] - 0s 2ms/step - loss: 0.6280 - accuracy: 0.6490\n",
      "Epoch 66/100\n",
      "14/14 [==============================] - 0s 2ms/step - loss: 0.5628 - accuracy: 0.7067\n",
      "Epoch 67/100\n",
      "14/14 [==============================] - 0s 2ms/step - loss: 0.5424 - accuracy: 0.7275\n",
      "Epoch 68/100\n",
      "14/14 [==============================] - 0s 2ms/step - loss: 0.5482 - accuracy: 0.7206\n",
      "Epoch 69/100\n",
      "14/14 [==============================] - 0s 2ms/step - loss: 0.5474 - accuracy: 0.6905\n",
      "Epoch 70/100\n",
      "14/14 [==============================] - 0s 2ms/step - loss: 0.5084 - accuracy: 0.7367\n",
      "Epoch 71/100\n",
      "14/14 [==============================] - 0s 2ms/step - loss: 0.5067 - accuracy: 0.7275\n",
      "Epoch 72/100\n",
      "14/14 [==============================] - 0s 2ms/step - loss: 0.5362 - accuracy: 0.6975\n",
      "Epoch 73/100\n",
      "14/14 [==============================] - 0s 2ms/step - loss: 0.5275 - accuracy: 0.7275\n",
      "Epoch 74/100\n",
      "14/14 [==============================] - 0s 2ms/step - loss: 0.4984 - accuracy: 0.7252\n",
      "Epoch 75/100\n",
      "14/14 [==============================] - 0s 2ms/step - loss: 0.5420 - accuracy: 0.7413\n",
      "Epoch 76/100\n",
      "14/14 [==============================] - 0s 2ms/step - loss: 0.6270 - accuracy: 0.6397\n",
      "Epoch 77/100\n",
      "14/14 [==============================] - 0s 2ms/step - loss: 0.5864 - accuracy: 0.6767\n",
      "Epoch 78/100\n",
      "14/14 [==============================] - 0s 2ms/step - loss: 0.5394 - accuracy: 0.7344\n",
      "Epoch 79/100\n",
      "14/14 [==============================] - 0s 2ms/step - loss: 0.5049 - accuracy: 0.7460\n",
      "Epoch 80/100\n",
      "14/14 [==============================] - 0s 2ms/step - loss: 0.4877 - accuracy: 0.7460\n",
      "Epoch 81/100\n",
      "14/14 [==============================] - 0s 2ms/step - loss: 0.4849 - accuracy: 0.7644\n",
      "Epoch 82/100\n",
      "14/14 [==============================] - 0s 2ms/step - loss: 0.5041 - accuracy: 0.7367\n",
      "Epoch 83/100\n"
     ]
    },
    {
     "name": "stdout",
     "output_type": "stream",
     "text": [
      "14/14 [==============================] - 0s 2ms/step - loss: 0.4872 - accuracy: 0.7529\n",
      "Epoch 84/100\n",
      "14/14 [==============================] - 0s 2ms/step - loss: 0.4876 - accuracy: 0.7552\n",
      "Epoch 85/100\n",
      "14/14 [==============================] - 0s 2ms/step - loss: 0.5114 - accuracy: 0.7021\n",
      "Epoch 86/100\n",
      "14/14 [==============================] - 0s 2ms/step - loss: 0.4785 - accuracy: 0.7529\n",
      "Epoch 87/100\n",
      "14/14 [==============================] - 0s 2ms/step - loss: 0.4594 - accuracy: 0.7667\n",
      "Epoch 88/100\n",
      "14/14 [==============================] - 0s 2ms/step - loss: 0.4686 - accuracy: 0.7691\n",
      "Epoch 89/100\n",
      "14/14 [==============================] - 0s 2ms/step - loss: 0.4925 - accuracy: 0.7390\n",
      "Epoch 90/100\n",
      "14/14 [==============================] - 0s 2ms/step - loss: 0.5162 - accuracy: 0.7621\n",
      "Epoch 91/100\n",
      "14/14 [==============================] - 0s 2ms/step - loss: 0.5030 - accuracy: 0.7460\n",
      "Epoch 92/100\n",
      "14/14 [==============================] - 0s 2ms/step - loss: 0.4972 - accuracy: 0.7552\n",
      "Epoch 93/100\n",
      "14/14 [==============================] - 0s 2ms/step - loss: 0.4522 - accuracy: 0.7760\n",
      "Epoch 94/100\n",
      "14/14 [==============================] - 0s 2ms/step - loss: 0.4499 - accuracy: 0.7714\n",
      "Epoch 95/100\n",
      "14/14 [==============================] - 0s 2ms/step - loss: 0.4546 - accuracy: 0.7829\n",
      "Epoch 96/100\n",
      "14/14 [==============================] - 0s 2ms/step - loss: 0.4547 - accuracy: 0.7829\n",
      "Epoch 97/100\n",
      "14/14 [==============================] - 0s 2ms/step - loss: 0.4675 - accuracy: 0.7598\n",
      "Epoch 98/100\n",
      "14/14 [==============================] - 0s 2ms/step - loss: 0.4419 - accuracy: 0.8060\n",
      "Epoch 99/100\n",
      "14/14 [==============================] - 0s 2ms/step - loss: 0.4304 - accuracy: 0.7829\n",
      "Epoch 100/100\n",
      "14/14 [==============================] - 0s 2ms/step - loss: 0.4358 - accuracy: 0.7829\n"
     ]
    }
   ],
   "source": [
    "history2 = model2.fit(Xcnn_train, Ycnn_train, epochs=100)"
   ]
  },
  {
   "cell_type": "code",
   "execution_count": 20,
   "id": "2bb7173a",
   "metadata": {},
   "outputs": [
    {
     "name": "stdout",
     "output_type": "stream",
     "text": [
      "3/3 [==============================] - 0s 2ms/step\n",
      "Accuracy: 0.5194805194805194\n"
     ]
    }
   ],
   "source": [
    "            ypreds = model2.predict(Xcnn_test)\n",
    "            ypreds_binary = [1 if y >= 0.5 else 0 for y in ypreds]\n",
    "            accuracy = accuracy_score(Ycnn_test, ypreds_binary)\n",
    "            print(\"Accuracy:\", accuracy)"
   ]
  },
  {
   "cell_type": "raw",
   "id": "e50ae324",
   "metadata": {},
   "source": []
  },
  {
   "cell_type": "markdown",
   "id": "c3fe70a0",
   "metadata": {},
   "source": [
    "# Model: Optimisation"
   ]
  },
  {
   "cell_type": "code",
   "execution_count": 21,
   "id": "a4073cd0",
   "metadata": {},
   "outputs": [
    {
     "name": "stdout",
     "output_type": "stream",
     "text": [
      "3/3 [==============================] - 0s 2ms/step\n",
      "3/3 [==============================] - 0s 2ms/step\n",
      "3/3 [==============================] - 0s 2ms/step\n",
      "WARNING:tensorflow:5 out of the last 13 calls to <function Model.make_predict_function.<locals>.predict_function at 0x0000025CD6D6CEE0> triggered tf.function retracing. Tracing is expensive and the excessive number of tracings could be due to (1) creating @tf.function repeatedly in a loop, (2) passing tensors with different shapes, (3) passing Python objects instead of tensors. For (1), please define your @tf.function outside of the loop. For (2), @tf.function has reduce_retracing=True option that can avoid unnecessary retracing. For (3), please refer to https://www.tensorflow.org/guide/function#controlling_retracing and https://www.tensorflow.org/api_docs/python/tf/function for  more details.\n",
      "3/3 [==============================] - 0s 1ms/step\n",
      "WARNING:tensorflow:5 out of the last 13 calls to <function Model.make_predict_function.<locals>.predict_function at 0x0000025CD7F2D0D0> triggered tf.function retracing. Tracing is expensive and the excessive number of tracings could be due to (1) creating @tf.function repeatedly in a loop, (2) passing tensors with different shapes, (3) passing Python objects instead of tensors. For (1), please define your @tf.function outside of the loop. For (2), @tf.function has reduce_retracing=True option that can avoid unnecessary retracing. For (3), please refer to https://www.tensorflow.org/guide/function#controlling_retracing and https://www.tensorflow.org/api_docs/python/tf/function for  more details.\n",
      "3/3 [==============================] - 0s 1ms/step\n",
      "3/3 [==============================] - 0s 1ms/step\n",
      "3/3 [==============================] - 0s 1ms/step\n",
      "3/3 [==============================] - 0s 769us/step\n",
      "3/3 [==============================] - 0s 1ms/step\n",
      "3/3 [==============================] - 0s 1ms/step\n",
      "3/3 [==============================] - 0s 1ms/step\n",
      "3/3 [==============================] - 0s 2ms/step\n",
      "3/3 [==============================] - 0s 2ms/step\n",
      "3/3 [==============================] - 0s 2ms/step\n",
      "3/3 [==============================] - 0s 2ms/step\n",
      "3/3 [==============================] - 0s 2ms/step\n",
      "3/3 [==============================] - 0s 2ms/step\n",
      "3/3 [==============================] - 0s 1ms/step\n",
      "3/3 [==============================] - 0s 1ms/step\n",
      "3/3 [==============================] - 0s 1ms/step\n",
      "3/3 [==============================] - 0s 1ms/step\n",
      "3/3 [==============================] - 0s 1ms/step\n",
      "3/3 [==============================] - 0s 1000us/step\n",
      "3/3 [==============================] - 0s 2ms/step\n",
      "3/3 [==============================] - 0s 2ms/step\n",
      "3/3 [==============================] - 0s 2ms/step\n",
      "3/3 [==============================] - 0s 3ms/step\n",
      "Best Accuracy: 0.5974025974025974\n",
      "Best Parameters: {'filters': 64, 'kernel_size': 3, 'dropout_rate': 0.2}\n"
     ]
    }
   ],
   "source": [
    "from tensorflow.keras.models import Sequential\n",
    "from tensorflow.keras.layers import Conv1D, MaxPooling1D, Flatten, Dense, Dropout, LeakyReLU\n",
    "from sklearn.metrics import accuracy_score\n",
    "\n",
    "# Define the parameter ranges for the CNN model\n",
    "param_range1 = [32, 64, 128]  # filters\n",
    "param_range2 = [3, 5, 7]  # kernel_size\n",
    "param_range3 = [0.2, 0.3, 0.4]  # dropout rate\n",
    "\n",
    "best_accuracy = 0.0\n",
    "best_params = {}\n",
    "\n",
    "for filters in param_range1:\n",
    "    for kernel_size in param_range2:\n",
    "        for dropout_rate in param_range3:\n",
    "            model = Sequential([\n",
    "                Conv1D(filters=filters, kernel_size=kernel_size, input_shape=(1, 39), padding='same'),\n",
    "                LeakyReLU(),\n",
    "                Conv1D(filters=filters, kernel_size=kernel_size, padding='same'),\n",
    "                LeakyReLU(),\n",
    "                MaxPooling1D(pool_size=1),\n",
    "                Flatten(),\n",
    "                Dropout(dropout_rate),\n",
    "                Dense(1, activation='sigmoid')\n",
    "            ])\n",
    "\n",
    "            model.compile(optimizer='adam', loss='binary_crossentropy', metrics=['accuracy'])\n",
    "\n",
    "            model.fit(Xcnn_train, Ycnn_train, epochs=10, batch_size=32, verbose=0)\n",
    "\n",
    "            ypreds = model.predict(Xcnn_test)\n",
    "            ypreds_binary = [1 if y >= 0.5 else 0 for y in ypreds]\n",
    "\n",
    "            accuracy = accuracy_score(Ycnn_test, ypreds_binary)\n",
    "\n",
    "            if accuracy > best_accuracy:\n",
    "                best_accuracy = accuracy\n",
    "                best_params = {'filters': filters, 'kernel_size': kernel_size, 'dropout_rate': dropout_rate}\n",
    "\n",
    "print(\"Best Accuracy:\", best_accuracy)\n",
    "print(\"Best Parameters:\", best_params)\n"
   ]
  },
  {
   "cell_type": "markdown",
   "id": "41e0900f",
   "metadata": {},
   "source": [
    "   # Methodology: Adapt Model to Model3"
   ]
  },
  {
   "cell_type": "code",
   "execution_count": 53,
   "id": "7bb229ab",
   "metadata": {},
   "outputs": [],
   "source": [
    "     model3 = Sequential([\n",
    "                Conv1D(filters=64, kernel_size=3, input_shape=(1, 39), padding='same'),\n",
    "                LeakyReLU(),\n",
    "                Conv1D(filters=64, kernel_size=3, padding='same'),\n",
    "                LeakyReLU(),\n",
    "                MaxPooling1D(pool_size=1),\n",
    "                Flatten(),\n",
    "                Dropout(0.4),\n",
    "                Dense(1, activation='sigmoid')\n",
    "            ])"
   ]
  },
  {
   "cell_type": "code",
   "execution_count": 54,
   "id": "473eef26",
   "metadata": {},
   "outputs": [],
   "source": [
    "from tensorflow.keras.optimizers import Adam\n",
    "\n",
    "learning_rate = 0.001\n",
    "\n",
    "optimizer = Adam(learning_rate=learning_rate)\n",
    "\n",
    "model3.compile(optimizer=optimizer, loss='binary_crossentropy', metrics=['accuracy'])"
   ]
  },
  {
   "cell_type": "code",
   "execution_count": 55,
   "id": "cbfdbdc1",
   "metadata": {},
   "outputs": [
    {
     "data": {
      "text/plain": [
       "<keras.callbacks.History at 0x25cd7f28580>"
      ]
     },
     "execution_count": 55,
     "metadata": {},
     "output_type": "execute_result"
    }
   ],
   "source": [
    "model3.fit(Xcnn_train, Ycnn_train, epochs=100, batch_size=32, verbose=0)"
   ]
  },
  {
   "cell_type": "code",
   "execution_count": 56,
   "id": "0064e8ad",
   "metadata": {},
   "outputs": [
    {
     "name": "stdout",
     "output_type": "stream",
     "text": [
      "3/3 [==============================] - 0s 2ms/step\n",
      "Accuracy: 0.5714285714285714\n"
     ]
    }
   ],
   "source": [
    "            ypreds = model3.predict(Xcnn_test)\n",
    "            ypreds_binary = [1 if y >= 0.5 else 0 for y in ypreds]\n",
    "            accuracy = accuracy_score(Ycnn_test, ypreds_binary)\n",
    "            print(\"Accuracy:\", accuracy)"
   ]
  },
  {
   "cell_type": "code",
   "execution_count": null,
   "id": "3fa6471c",
   "metadata": {},
   "outputs": [],
   "source": []
  },
  {
   "cell_type": "markdown",
   "id": "d6e84035",
   "metadata": {},
   "source": [
    "# Methodology: We run some optimisation on the Learning Rate."
   ]
  },
  {
   "cell_type": "code",
   "execution_count": 38,
   "id": "825ddc5c",
   "metadata": {},
   "outputs": [
    {
     "name": "stdout",
     "output_type": "stream",
     "text": [
      "3/3 [==============================] - 0s 3ms/step - loss: 0.6841 - accuracy: 0.5455\n",
      "Learning Rate: 0.001, Accuracy: 0.5454545617103577\n",
      "WARNING:tensorflow:5 out of the last 13 calls to <function Model.make_test_function.<locals>.test_function at 0x0000025CD6E26160> triggered tf.function retracing. Tracing is expensive and the excessive number of tracings could be due to (1) creating @tf.function repeatedly in a loop, (2) passing tensors with different shapes, (3) passing Python objects instead of tensors. For (1), please define your @tf.function outside of the loop. For (2), @tf.function has reduce_retracing=True option that can avoid unnecessary retracing. For (3), please refer to https://www.tensorflow.org/guide/function#controlling_retracing and https://www.tensorflow.org/api_docs/python/tf/function for  more details.\n",
      "3/3 [==============================] - 0s 1ms/step - loss: 0.6817 - accuracy: 0.5455\n",
      "Learning Rate: 0.01, Accuracy: 0.5454545617103577\n",
      "WARNING:tensorflow:5 out of the last 13 calls to <function Model.make_test_function.<locals>.test_function at 0x0000025CD912AA60> triggered tf.function retracing. Tracing is expensive and the excessive number of tracings could be due to (1) creating @tf.function repeatedly in a loop, (2) passing tensors with different shapes, (3) passing Python objects instead of tensors. For (1), please define your @tf.function outside of the loop. For (2), @tf.function has reduce_retracing=True option that can avoid unnecessary retracing. For (3), please refer to https://www.tensorflow.org/guide/function#controlling_retracing and https://www.tensorflow.org/api_docs/python/tf/function for  more details.\n",
      "3/3 [==============================] - 0s 2ms/step - loss: 0.6713 - accuracy: 0.5584\n",
      "Learning Rate: 0.1, Accuracy: 0.5584415793418884\n"
     ]
    }
   ],
   "source": [
    "from tensorflow.keras.models import Sequential\n",
    "from tensorflow.keras.layers import Conv1D, MaxPooling1D, Flatten, Dense, Dropout, LeakyReLU\n",
    "from tensorflow.keras.optimizers import Adam\n",
    "from tensorflow.keras.callbacks import LearningRateScheduler\n",
    "import numpy as np\n",
    "\n",
    "# Define the learning rate scheduler function\n",
    "def lr_scheduler(epoch, lr):\n",
    "    # Define the schedule based on the epoch\n",
    "    if epoch < 10:\n",
    "        return lr  # Keep the initial learning rate for the first 10 epochs\n",
    "    else:\n",
    "        return lr * np.exp(-0.1)  # Reduce the learning rate exponentially after 10 epochs\n",
    "\n",
    "# Set the range of parameters to loop through\n",
    "param_range = [0.001, 0.01, 0.1]\n",
    "\n",
    "\n",
    "# Loop through the parameters\n",
    "for learning_rate in param_range:\n",
    "    # Create the model\n",
    "    model = Sequential([\n",
    "                Conv1D(filters=32, kernel_size=5, input_shape=(1, 39), padding='same'),\n",
    "                LeakyReLU(),\n",
    "                Conv1D(filters=32, kernel_size=5, padding='same'),\n",
    "                LeakyReLU(),\n",
    "                MaxPooling1D(pool_size=1),\n",
    "                Flatten(),\n",
    "                Dropout(0.4),\n",
    "                Dense(1, activation='sigmoid')\n",
    "            ])\n",
    "\n",
    "    # Compile the model with the desired learning rate\n",
    "    model.compile(optimizer='adam', loss='binary_crossentropy', metrics=['accuracy'])\n",
    "\n",
    "    # Define the learning rate scheduler callback\n",
    "    lr_scheduler_callback = LearningRateScheduler(lr_scheduler)\n",
    "\n",
    "    # Train the model\n",
    "    model.fit(Xcnn_train, Ycnn_train, epochs=20, batch_size=32,verbose=0, callbacks=[lr_scheduler_callback])\n",
    "\n",
    "    # Evaluate the model on the test data\n",
    "    accuracy = model.evaluate(Xcnn_test, Ycnn_test)[1]\n",
    "    \n",
    "    print(f\"Learning Rate: {learning_rate}, Accuracy: {accuracy}\")\n"
   ]
  },
  {
   "cell_type": "markdown",
   "id": "ccc83d52",
   "metadata": {},
   "source": [
    "# Methodology: Trail Model with Higher Learning Rate"
   ]
  },
  {
   "cell_type": "code",
   "execution_count": 39,
   "id": "b916ddf3",
   "metadata": {},
   "outputs": [],
   "source": [
    "from tensorflow.keras.optimizers import Adam\n",
    "\n",
    "learning_rate = 0.1\n",
    "\n",
    "optimizer = Adam(learning_rate=learning_rate)\n",
    "\n",
    "model3.compile(optimizer=optimizer, loss='binary_crossentropy', metrics=['accuracy'])"
   ]
  },
  {
   "cell_type": "code",
   "execution_count": 40,
   "id": "effdd69a",
   "metadata": {},
   "outputs": [
    {
     "data": {
      "text/plain": [
       "<keras.callbacks.History at 0x25cd8019c40>"
      ]
     },
     "execution_count": 40,
     "metadata": {},
     "output_type": "execute_result"
    }
   ],
   "source": [
    "model3.fit(Xcnn_train, Ycnn_train, epochs=100, batch_size=32, verbose=0)"
   ]
  },
  {
   "cell_type": "code",
   "execution_count": 41,
   "id": "cce664a8",
   "metadata": {},
   "outputs": [
    {
     "name": "stdout",
     "output_type": "stream",
     "text": [
      "3/3 [==============================] - 0s 1ms/step\n",
      "Accuracy: 0.5844155844155844\n"
     ]
    }
   ],
   "source": [
    "            ypreds = model3.predict(Xcnn_test)\n",
    "            ypreds_binary = [1 if y >= 0.5 else 0 for y in ypreds]\n",
    "            accuracy = accuracy_score(Ycnn_test, ypreds_binary)\n",
    "            print(\"Accuracy:\", accuracy)"
   ]
  },
  {
   "cell_type": "code",
   "execution_count": null,
   "id": "da0dcf20",
   "metadata": {},
   "outputs": [],
   "source": []
  },
  {
   "cell_type": "markdown",
   "id": "99687e5b",
   "metadata": {},
   "source": [
    "# Model 1: Intuitive model"
   ]
  },
  {
   "cell_type": "code",
   "execution_count": 42,
   "id": "e629951d",
   "metadata": {},
   "outputs": [
    {
     "name": "stdout",
     "output_type": "stream",
     "text": [
      "Model: \"sequential_36\"\n",
      "_________________________________________________________________\n",
      " Layer (type)                Output Shape              Param #   \n",
      "=================================================================\n",
      " conv1d_80 (Conv1D)          (None, 1, 64)             17536     \n",
      "                                                                 \n",
      " leaky_re_lu_80 (LeakyReLU)  (None, 1, 64)             0         \n",
      "                                                                 \n",
      " conv1d_81 (Conv1D)          (None, 1, 64)             28736     \n",
      "                                                                 \n",
      " leaky_re_lu_81 (LeakyReLU)  (None, 1, 64)             0         \n",
      "                                                                 \n",
      " max_pooling1d_38 (MaxPoolin  (None, 1, 64)            0         \n",
      " g1D)                                                            \n",
      "                                                                 \n",
      " conv1d_82 (Conv1D)          (None, 1, 64)             28736     \n",
      "                                                                 \n",
      " leaky_re_lu_82 (LeakyReLU)  (None, 1, 64)             0         \n",
      "                                                                 \n",
      " conv1d_83 (Conv1D)          (None, 1, 64)             28736     \n",
      "                                                                 \n",
      " leaky_re_lu_83 (LeakyReLU)  (None, 1, 64)             0         \n",
      "                                                                 \n",
      " max_pooling1d_39 (MaxPoolin  (None, 1, 64)            0         \n",
      " g1D)                                                            \n",
      "                                                                 \n",
      " conv1d_84 (Conv1D)          (None, 1, 64)             28736     \n",
      "                                                                 \n",
      " leaky_re_lu_84 (LeakyReLU)  (None, 1, 64)             0         \n",
      "                                                                 \n",
      " conv1d_85 (Conv1D)          (None, 1, 64)             28736     \n",
      "                                                                 \n",
      " leaky_re_lu_85 (LeakyReLU)  (None, 1, 64)             0         \n",
      "                                                                 \n",
      " flatten_36 (Flatten)        (None, 64)                0         \n",
      "                                                                 \n",
      " dropout_36 (Dropout)        (None, 64)                0         \n",
      "                                                                 \n",
      " dense_36 (Dense)            (None, 1)                 65        \n",
      "                                                                 \n",
      "=================================================================\n",
      "Total params: 161,281\n",
      "Trainable params: 161,281\n",
      "Non-trainable params: 0\n",
      "_________________________________________________________________\n"
     ]
    }
   ],
   "source": [
    "model1 = Sequential([\n",
    "    Conv1D(filters=64, kernel_size=7, input_shape=(1, 39), padding='same'),\n",
    "    LeakyReLU(),\n",
    "    Conv1D(filters=64, kernel_size=7, padding='same'),\n",
    "    LeakyReLU(),\n",
    "    MaxPooling1D(pool_size=1),\n",
    "    Conv1D(filters=64, kernel_size=7, padding='same'),\n",
    "    LeakyReLU(),\n",
    "    Conv1D(filters=64, kernel_size=7, padding='same'),\n",
    "    LeakyReLU(),\n",
    "    MaxPooling1D(pool_size=1),\n",
    "    Conv1D(filters=64, kernel_size=7, padding='same'),\n",
    "    LeakyReLU(),\n",
    "    Conv1D(filters=64, kernel_size=7, padding='same'),\n",
    "    LeakyReLU(),\n",
    "    Flatten(),\n",
    "    Dropout(0.4),\n",
    "    Dense(1, activation='sigmoid')\n",
    "])\n",
    "\n",
    "model1.summary()"
   ]
  },
  {
   "cell_type": "code",
   "execution_count": 43,
   "id": "c415fe6a",
   "metadata": {},
   "outputs": [],
   "source": [
    "model1.compile(optimizer=Adam(learning_rate=0.001), loss='binary_crossentropy', metrics=['accuracy'])"
   ]
  },
  {
   "cell_type": "code",
   "execution_count": 44,
   "id": "34b8190c",
   "metadata": {
    "scrolled": true
   },
   "outputs": [
    {
     "data": {
      "text/plain": [
       "<keras.callbacks.History at 0x25cda232f10>"
      ]
     },
     "execution_count": 44,
     "metadata": {},
     "output_type": "execute_result"
    }
   ],
   "source": [
    "model1.fit(Xcnn_train, Ycnn_train, epochs=100, batch_size=32, verbose=0)"
   ]
  },
  {
   "cell_type": "code",
   "execution_count": 45,
   "id": "1435a4c2",
   "metadata": {},
   "outputs": [
    {
     "name": "stdout",
     "output_type": "stream",
     "text": [
      "3/3 [==============================] - 0s 2ms/step\n",
      "Accuracy: 0.5714285714285714\n"
     ]
    }
   ],
   "source": [
    "ypreds = model1.predict(Xcnn_test)\n",
    "ypreds_binary = [1 if y >= 0.5 else 0 for y in ypreds]\n",
    "accuracy = accuracy_score(Ycnn_test, ypreds_binary)\n",
    "print(\"Accuracy:\", accuracy)"
   ]
  },
  {
   "cell_type": "markdown",
   "id": "8375c3c5",
   "metadata": {},
   "source": [
    "# Investment Performance of the Model"
   ]
  },
  {
   "cell_type": "code",
   "execution_count": 46,
   "id": "ee50efa6",
   "metadata": {},
   "outputs": [
    {
     "name": "stdout",
     "output_type": "stream",
     "text": [
      "(510, 1, 39)\n"
     ]
    }
   ],
   "source": [
    "# Concatenate the tensors vertically\n",
    "concatenated_tensor = tf.concat([Xcnn_train, Xcnn_test], axis=0)\n",
    "\n",
    "# Print the shape of the concatenated tensor\n",
    "print(concatenated_tensor.shape)"
   ]
  },
  {
   "cell_type": "code",
   "execution_count": 47,
   "id": "31ca5b7a",
   "metadata": {},
   "outputs": [
    {
     "data": {
      "text/plain": [
       "TensorShape([510])"
      ]
     },
     "execution_count": 47,
     "metadata": {},
     "output_type": "execute_result"
    }
   ],
   "source": [
    "Yact = pd.read_csv(\"perfs17_21.csv\")\n",
    "Yact = tf.convert_to_tensor(Yact)\n",
    "Yact = tf.reshape(Yact,[510])\n",
    "Yact.shape"
   ]
  },
  {
   "cell_type": "code",
   "execution_count": 48,
   "id": "5a844619",
   "metadata": {},
   "outputs": [
    {
     "data": {
      "text/plain": [
       "<tf.Tensor: shape=(510,), dtype=float64, numpy=\n",
       "array([ 1.32137313e-01,  0.00000000e+00,  2.33293169e-01,  1.55162952e-01,\n",
       "        4.07648932e-01,  2.40802716e-01,  2.21023538e-01,  1.32202369e-01,\n",
       "       -2.86818928e-01,  1.53930348e+00,  1.14382922e-01,  2.30360557e-01,\n",
       "        1.66060399e-01, -5.29310769e-02, -3.25081539e-01,  2.76087415e-01,\n",
       "        1.56133797e-01, -2.61391620e-01, -1.36732165e-01, -1.61258166e-01,\n",
       "        7.27223213e-01,  0.00000000e+00,  1.14677727e-01,  1.70032241e-01,\n",
       "        2.85039584e-01,  1.89672095e-01,  0.00000000e+00,  2.58801642e-01,\n",
       "        3.43026437e-01,  1.84839949e-01, -1.00000038e-01,  0.00000000e+00,\n",
       "        1.06849307e-01,  1.00000000e+00,  6.05986955e-01, -1.61745306e-01,\n",
       "       -7.70378270e-02,  2.85055117e-01,  1.78054541e-01,  0.00000000e+00,\n",
       "        5.67189366e-01, -1.37684008e-01,  1.37159696e-01,  1.34745613e-01,\n",
       "        1.47391176e-01,  1.68295140e-01,  3.14144340e-01,  3.11059692e-02,\n",
       "        5.07989584e-01,  3.82118509e-01, -2.55371737e-01, -7.63726981e-01,\n",
       "       -4.75838802e-01,  9.54041035e-02,  0.00000000e+00, -1.18871868e-01,\n",
       "        8.38756621e-01, -8.00853047e-02, -9.19439741e-02,  1.96261651e-01,\n",
       "        4.24647128e-01,  4.31817351e-02, -4.59709368e-02,  1.00000000e+00,\n",
       "       -5.28571719e-02,  2.92210001e-01,  2.73852438e-01, -2.07326384e-01,\n",
       "        2.07245608e-01, -1.38877961e-01, -2.24664276e-01, -2.44529920e-01,\n",
       "       -1.75546148e-02,  1.07603530e+00,  5.69649851e-01,  3.38034330e-01,\n",
       "        3.02159389e-01,  2.97717598e-02, -6.35722690e-01,  1.22766847e-01,\n",
       "        3.68656815e-01,  2.92365807e-02,  1.92414951e-01,  1.93895800e-01,\n",
       "        2.84159563e-01,  3.99312145e-01, -9.13461083e-02,  3.83349405e-01,\n",
       "        2.66388853e-01, -1.77338903e-01,  1.08438433e+00,  1.32044519e-01,\n",
       "        5.15912955e-02,  2.09837359e-02,  2.78846154e-01,  5.31376529e-01,\n",
       "        1.28666105e-01, -3.36031881e-02,  5.17189876e-01,  2.35927873e-01,\n",
       "        0.00000000e+00,  1.00000000e+00,  3.38720702e-01,  0.00000000e+00,\n",
       "        1.94191159e-01, -1.48380314e-01, -1.44359660e-01,  1.79693727e-03,\n",
       "       -4.50148853e-02, -3.88210864e-01,  1.55320219e-01,  7.82131612e-01,\n",
       "        6.71123291e-02,  9.48870053e-02,  2.72344112e-01,  3.91332148e-01,\n",
       "        3.06391415e-01, -2.11532663e-01,  1.04625266e-01, -3.88595710e-01,\n",
       "        3.38438101e-01, -2.29003261e-01,  3.98362882e-02,  0.00000000e+00,\n",
       "        2.57703707e-01, -1.40069998e-01,  1.77541941e-01,  1.30879625e-01,\n",
       "        1.00000000e+00, -2.71902201e-01, -2.34161990e-01, -1.42941959e-01,\n",
       "       -3.58592089e-01,  1.00000000e+00, -3.00552165e-01,  2.11163501e+00,\n",
       "        1.26087315e+00, -1.43658282e-02, -1.90630050e-01, -2.65709114e-01,\n",
       "       -2.81448861e-02,  0.00000000e+00,  2.04834971e-01,  1.49976922e-01,\n",
       "       -8.94906751e-03, -1.26945021e-02, -1.58129909e-01,  8.33631435e-02,\n",
       "       -1.20924417e-01,  7.82119484e-03, -1.20156089e-01, -1.32093600e-01,\n",
       "        3.43283599e-01, -1.32284553e-01, -2.42266505e-01,  2.03751789e-01,\n",
       "        0.00000000e+00,  3.40707264e-01,  1.56709640e-01, -4.01950598e-01,\n",
       "       -1.82738623e-01,  3.20520168e-03, -3.77169440e-02,  6.59911265e-04,\n",
       "        3.07804403e-02,  2.80943026e-01,  1.37757660e-01,  3.37205388e-01,\n",
       "        1.66578347e-01,  1.76627029e-02,  5.31186969e-02,  3.29302136e-01,\n",
       "        4.68033023e-01, -6.17716837e-02,  3.63598500e-01,  4.77819378e-01,\n",
       "       -2.24697406e-01, -3.24934136e-01, -2.15461340e-01, -1.02876407e-01,\n",
       "        4.52822576e-01, -1.99918769e-02, -7.80046106e-02,  1.86217832e-01,\n",
       "        1.89153023e-01, -6.58431510e-02, -1.15684677e-01,  5.75368659e-01,\n",
       "       -1.28747797e-01,  1.18454117e-01,  1.30819013e-02,  8.36565666e-02,\n",
       "        2.21282990e-01,  2.14182393e-01,  8.72364804e-01, -5.78862959e-02,\n",
       "        4.79699615e-02, -8.09650386e-03,  2.93558037e-01, -2.76908493e-01,\n",
       "       -3.24760191e-01,  7.27628575e-02,  1.00000000e+00,  1.85921959e-01,\n",
       "        9.21428365e-01,  1.00000000e+00,  4.93746888e-01,  7.29838251e-01,\n",
       "        3.78914335e-01,  7.75464337e-01,  5.90146711e-02,  2.11313618e+00,\n",
       "        1.91575746e+00,  7.26033439e-01,  2.27297404e-01,  5.86935505e-01,\n",
       "        4.60661573e-01,  1.35957786e+00,  5.63550785e-01,  9.55546148e-01,\n",
       "        1.13300524e-01,  1.15844827e+00, -1.15778508e-01,  7.31811153e-01,\n",
       "        1.07434893e+00,  0.00000000e+00,  4.14178045e-01,  5.73880132e-01,\n",
       "        2.36208063e-01,  5.85084733e-01,  3.24744335e+00,  3.15441294e-01,\n",
       "        6.82722448e-01,  9.70384454e-01,  6.81084586e-01,  1.60561143e+00,\n",
       "        5.57914757e-01,  1.19101725e+00,  3.34682769e-01,  3.51402592e-01,\n",
       "        1.03725891e+00,  1.88264024e-01,  6.08959961e-01,  0.00000000e+00,\n",
       "        8.22872405e-01, -1.35500329e-01,  7.78992352e-01,  7.75050557e-01,\n",
       "        6.22468183e-01,  1.01993885e+00,  4.06195095e-01,  1.82557303e-01,\n",
       "        6.65478250e-01,  4.92175006e-01,  1.08222227e+00,  4.16151557e-01,\n",
       "        6.16814890e-01,  1.29859455e+00,  1.00000000e+00,  1.48016663e+00,\n",
       "        6.18095418e-01,  9.79815605e-01,  1.28938045e+00,  1.68729965e-01,\n",
       "        2.01309930e+00,  7.65767346e-01,  6.19089923e-01,  4.34100204e+00,\n",
       "        1.16438362e+00,  4.94959066e-01,  1.08025444e+00,  1.09724194e+00,\n",
       "        3.89240940e-01,  6.08611665e-01,  1.02553103e+00,  1.42783065e+00,\n",
       "        8.31555796e-01,  8.02960812e-01,  6.84936125e-01,  9.64259617e-01,\n",
       "        5.57851232e-01,  5.20039235e-01,  2.71579266e+00,  1.77768516e-01,\n",
       "        1.53645291e+00,  9.59940774e-01, -3.10266310e-02,  3.78751316e-01,\n",
       "        6.62153943e-01,  2.03501507e-01,  2.32793539e-01,  9.23907226e-01,\n",
       "        7.32788729e-02,  1.05280825e+00,  5.35480132e-01,  4.93325371e-01,\n",
       "        5.37337746e+00,  8.91223906e-01,  2.67685437e-01,  1.03670379e-01,\n",
       "       -9.69111068e-02,  2.00000033e-01,  9.07771390e-01,  1.02985124e-01,\n",
       "        1.19880933e+00,  3.29483871e+00,  4.29471948e-01,  1.34128065e-01,\n",
       "       -4.15465852e-02,  6.51276162e-02,  2.07300853e-01, -2.26592059e-01,\n",
       "        1.77922081e-01, -1.94873827e-01, -1.34730761e-02,  3.92866195e-01,\n",
       "       -2.80936872e-02,  5.36088471e-02, -6.45246902e-02,  8.19133221e-02,\n",
       "       -1.38602144e-01,  3.58064072e-01,  3.34271816e-01, -3.91863934e-01,\n",
       "       -2.47184965e-01,  7.98761399e-03,  2.00525587e-01,  1.00000000e+00,\n",
       "       -1.15879546e-01, -1.34725574e-01,  6.33709594e-01,  1.55234329e-01,\n",
       "       -3.33773959e-02,  7.83213945e-02,  1.65214732e-01,  2.46345017e-01,\n",
       "        1.47849399e-01,  8.09325477e-01,  3.99178710e-01, -4.70881678e-01,\n",
       "        4.23523151e-01, -6.54501980e-02, -6.49902555e-02,  5.26686372e-01,\n",
       "        1.81384307e-01,  0.00000000e+00,  8.53052859e-01, -8.01484869e-02,\n",
       "        3.50164130e-01,  3.48520311e-01, -1.03607153e-01,  1.18023340e-01,\n",
       "       -9.02463258e-02, -2.25624979e-01,  2.55260271e-01,  2.24781385e-01,\n",
       "       -3.13767370e-01,  1.02705927e-01, -1.52500153e-02,  1.07929795e-01,\n",
       "        2.80119880e+00, -9.68181000e-02,  1.90799195e-01,  1.86618049e-01,\n",
       "       -3.18258111e-02,  7.26123371e-02, -1.92006216e-01, -2.45034456e-01,\n",
       "       -1.22845485e-01,  1.43112855e+00,  4.64066961e-01,  3.07672698e-01,\n",
       "       -2.08472893e-01, -1.16993536e-01, -2.81926896e-01, -1.31415838e-01,\n",
       "        1.04416301e+00, -8.07588895e-02,  2.42377556e-01, -3.15156686e-01,\n",
       "        3.50340112e-01,  9.32900652e-01,  3.92266944e-01, -5.21954410e-02,\n",
       "       -7.00403353e-01,  1.83315719e-01, -5.23760487e-01,  1.52575696e-01,\n",
       "        4.76138059e-01, -2.45600898e-01, -1.67475025e-01,  3.73757916e-02,\n",
       "        8.70278686e-02,  3.45023774e-01,  9.69147128e-02, -2.73599292e-01,\n",
       "        3.94144972e-01,  2.44233791e-02,  6.13342825e-01, -2.91550326e-02,\n",
       "        2.14726368e-01,  1.19239348e-01,  2.14435302e-01, -1.84517319e-01,\n",
       "       -3.61066949e-02,  8.50999226e-02, -6.35127143e-01,  6.08983025e-01,\n",
       "       -5.56096826e-02, -4.85554688e-01, -1.54185507e-01,  1.93970275e-01,\n",
       "       -2.15785732e-02, -2.88780138e-02, -8.80023963e-02, -2.33623820e-01,\n",
       "       -6.80576708e-02, -1.03621681e-01, -2.89501787e-04, -3.66309284e-01,\n",
       "        4.76939845e-02,  1.91337856e-02,  6.84058880e-02,  1.88349407e-02,\n",
       "        4.62768691e-02,  1.40740701e-01,  3.20180393e-01,  1.29430036e-01,\n",
       "        2.77453410e-01,  3.95555556e-01, -3.44460382e-01, -1.90303287e-01,\n",
       "       -1.37153745e-01,  1.98852289e-01, -4.85763126e-01, -6.24103237e-02,\n",
       "       -2.00534047e-01,  8.76606802e-02, -3.20508514e-01, -5.87333670e-01,\n",
       "       -1.03652772e-01, -4.55750581e-01, -9.16340976e-02, -4.79013919e-02,\n",
       "       -2.25113513e-01, -1.20512315e-01, -9.19192384e-02,  0.00000000e+00,\n",
       "       -2.76233467e-02,  3.95626580e-01, -2.55278423e-01, -2.54103225e-01,\n",
       "       -1.77819235e-02, -8.58772551e-02, -3.34430432e-01, -3.40799087e-01,\n",
       "       -7.28101032e-02, -1.53175526e-01, -2.41575943e-01, -6.91293573e-02,\n",
       "       -1.82787822e-02,  9.04496970e-02, -8.20499343e-01, -1.39320147e-02,\n",
       "       -2.84754405e-03, -5.52489713e-02,  1.14985353e-01,  1.10544801e-01,\n",
       "        1.08097724e-01, -4.68609379e-02,  3.51939857e-01, -2.92778959e-01,\n",
       "       -3.96179057e-01, -6.49022410e-02, -6.46956041e-01, -2.25317748e-01,\n",
       "       -7.77115930e-02, -1.39368934e-02,  1.79945904e-02,  7.56426347e-03,\n",
       "        1.41154428e-01, -4.28722880e-01,  2.39459170e-01, -3.74129950e-02,\n",
       "       -1.60328312e-01,  2.46735504e-01,  8.92296195e-01,  8.91384737e-02,\n",
       "       -3.43363585e-01, -1.65161656e-01,  1.76469750e-01,  1.73225717e-01,\n",
       "        1.44663030e-01,  4.05553606e-01, -4.00302100e-01,  1.58970243e-01,\n",
       "       -3.54821366e-01, -1.14795885e-01, -4.17452248e-01,  1.28476739e-01,\n",
       "       -4.22438754e-01,  1.37889625e-02, -1.06089567e-01, -5.00314868e-02,\n",
       "        2.07303544e-01, -2.27607740e-01, -1.37476040e-01, -6.55396404e-02,\n",
       "       -3.70127150e-01, -6.51759873e-01])>"
      ]
     },
     "execution_count": 48,
     "metadata": {},
     "output_type": "execute_result"
    }
   ],
   "source": [
    "Yact"
   ]
  },
  {
   "cell_type": "code",
   "execution_count": null,
   "id": "1019511d",
   "metadata": {},
   "outputs": [],
   "source": []
  },
  {
   "cell_type": "code",
   "execution_count": 49,
   "id": "187060cd",
   "metadata": {},
   "outputs": [],
   "source": [
    "import numpy as np\n",
    "\n",
    "def evaluate_model(model, X_data, perfs):\n",
    "    # Apply the model to the X data to generate predicted labels\n",
    "    model.compile(optimizer=Adam(learning_rate=0.001), loss='binary_crossentropy', metrics=['accuracy'])\n",
    "    model.fit(Xcnn_train, Ycnn_train, epochs=100, batch_size=32, verbose=0)\n",
    "    \n",
    "    y_pred = model.predict(X_data)\n",
    "    y_pred = [1 if y >= 0.5 else 0 for y in y_pred]  \n",
    "\n",
    "    # Convert perfs to a list with the desired shape\n",
    "    perfs = np.reshape(perfs, (-1, 1)).tolist()\n",
    "\n",
    "    # Create empty lists to store the actual performance values for each year\n",
    "    perf_1_list_Yr1 = []\n",
    "    perf_0_list_Yr1 = []\n",
    "    perf_1_list_Yr2 = []\n",
    "    perf_0_list_Yr2 = []\n",
    "    perf_1_list_Yr3 = []\n",
    "    perf_0_list_Yr3 = []\n",
    "    perf_1_list_Yr4 = []\n",
    "    perf_0_list_Yr4 = []\n",
    "    perf_1_list_Yr5 = []\n",
    "    perf_0_list_Yr5 = []\n",
    "\n",
    "    # Loop through the predicted labels and lookup the actual performances\n",
    "    for i, label in enumerate(y_pred):\n",
    "        # Get the actual performance for the corresponding label\n",
    "        actual_perf = perfs[i][0]  # Assuming perfs is a Python list with the actual performance values\n",
    "\n",
    "        # Determine the year based on the index i\n",
    "        year = i // 102 + 1\n",
    "\n",
    "        # Append the actual performance to the corresponding list based on the year and label\n",
    "        if year == 1:\n",
    "            if label == 1:\n",
    "                perf_1_list_Yr1.append(actual_perf)\n",
    "            else:\n",
    "                perf_0_list_Yr1.append(actual_perf)\n",
    "        elif year == 2:\n",
    "            if label == 1:\n",
    "                perf_1_list_Yr2.append(actual_perf)\n",
    "            else:\n",
    "                perf_0_list_Yr2.append(actual_perf)\n",
    "        elif year == 3:\n",
    "            if label == 1:\n",
    "                perf_1_list_Yr3.append(actual_perf)\n",
    "            else:\n",
    "                perf_0_list_Yr3.append(actual_perf)\n",
    "        elif year == 4:\n",
    "            if label == 1:\n",
    "                perf_1_list_Yr4.append(actual_perf)\n",
    "            else:\n",
    "                perf_0_list_Yr4.append(actual_perf)\n",
    "        elif year == 5:\n",
    "            if label == 1:\n",
    "                perf_1_list_Yr5.append(actual_perf)\n",
    "            else:\n",
    "                perf_0_list_Yr5.append(actual_perf)\n",
    "\n",
    "    # Calculate the mean performance for each list if they have non-zero lengths\n",
    "    mean_perf_1_Yr1 = sum(perf_1_list_Yr1) / len(perf_1_list_Yr1) if len(perf_1_list_Yr1) > 0 else 0\n",
    "    mean_perf_0_Yr1 = sum(perf_0_list_Yr1) / len(perf_0_list_Yr1) if len(perf_0_list_Yr1) > 0 else 0\n",
    "    mean_perf_1_Yr2 = sum(perf_1_list_Yr2) / len(perf_1_list_Yr2) if len(perf_1_list_Yr2) > 0 else 0\n",
    "    mean_perf_0_Yr2 = sum(perf_0_list_Yr2) / len(perf_0_list_Yr2) if len(perf_0_list_Yr2) > 0 else 0\n",
    "    mean_perf_1_Yr3 = sum(perf_1_list_Yr3) / len(perf_1_list_Yr3) if len(perf_1_list_Yr3) > 0 else 0\n",
    "    mean_perf_0_Yr3 = sum(perf_0_list_Yr3) / len(perf_0_list_Yr3) if len(perf_0_list_Yr3) > 0 else 0\n",
    "    mean_perf_1_Yr4 = sum(perf_1_list_Yr4) / len(perf_1_list_Yr4) if len(perf_1_list_Yr4) > 0 else 0\n",
    "    mean_perf_0_Yr4 = sum(perf_0_list_Yr4) / len(perf_0_list_Yr4) if len(perf_0_list_Yr4) > 0 else 0\n",
    "    mean_perf_1_Yr5 = sum(perf_1_list_Yr5) / len(perf_1_list_Yr5) if len(perf_1_list_Yr5) > 0 else 0\n",
    "    mean_perf_0_Yr5 = sum(perf_0_list_Yr5) / len(perf_0_list_Yr5) if len(perf_0_list_Yr5) > 0 else 0\n",
    "\n",
    "    # Calculate the 5-year performance for label 1 and label 0\n",
    "    five_year_perf_1 = (1 + mean_perf_1_Yr1) * (1 + mean_perf_1_Yr2) * (1 + mean_perf_1_Yr3) * (1 + mean_perf_1_Yr4) * (1 + mean_perf_1_Yr5)\n",
    "    five_year_perf_0 = (1 + mean_perf_0_Yr1) * (1 + mean_perf_0_Yr2) * (1 + mean_perf_0_Yr3) * (1 + mean_perf_0_Yr4) * (1 + mean_perf_0_Yr5)\n",
    "    five_year_perf_LS = (1 + (mean_perf_1_Yr1 - mean_perf_0_Yr1)) * (1 + (mean_perf_1_Yr2 - mean_perf_0_Yr2)) * (1 + (mean_perf_1_Yr3 - mean_perf_0_Yr3)) * (1 + (mean_perf_1_Yr4 - mean_perf_0_Yr4)) * (1 + (mean_perf_1_Yr5 - mean_perf_0_Yr5))\n",
    "    cagr_Long = (five_year_perf_1 / 1) ** (1 / 5) - 1\n",
    "    cagr_Short = (five_year_perf_0 / 1) ** (1 / 5) - 1\n",
    "    cagr_LongShort = (five_year_perf_LS / 1) ** (1 / 5) - 1\n",
    "\n",
    "    #Print the lists and the mean and 5-year performance values\n",
    "    print(\"5-year performance (Label 1):\", five_year_perf_1)\n",
    "    print(\"5-year performance Long on 1s cagr:\", cagr_Long)\n",
    "    print(\"5-year performance (Label 0):\", five_year_perf_0)\n",
    "    print(\"5-year performance Long on Os cagr:\", cagr_Short)\n",
    "    print(\"5-year performance LS:\", five_year_perf_LS)\n",
    "    print(\"5-year performance LS cagr:\", cagr_LongShort)\n",
    "    \n",
    "    #print(perf_1_list_Yr1)\n",
    "    #print(perf_0_list_Yr1)\n",
    "    #print(perf_1_list_Yr2)\n",
    "    #print(perf_0_list_Yr2)\n",
    "    #print(perf_1_list_Yr3)\n",
    "    #print(perf_0_list_Yr3)\n",
    "\n",
    "    return cagr_Long, cagr_Short, cagr_LongShort\n"
   ]
  },
  {
   "cell_type": "code",
   "execution_count": 57,
   "id": "15d66716",
   "metadata": {},
   "outputs": [
    {
     "name": "stdout",
     "output_type": "stream",
     "text": [
      "16/16 [==============================] - 0s 2ms/step\n",
      "5-year performance (Label 1): 2.2702879848081894\n",
      "5-year performance Long on 1s cagr: 0.17819232722689726\n",
      "5-year performance (Label 0): 2.602951469403655\n",
      "5-year performance Long on Os cagr: 0.21085799650770332\n",
      "5-year performance LS: 0.8690534156727167\n",
      "5-year performance LS cagr: -0.0276798317210597\n"
     ]
    },
    {
     "data": {
      "text/plain": [
       "(0.17819232722689726, 0.21085799650770332, -0.0276798317210597)"
      ]
     },
     "execution_count": 57,
     "metadata": {},
     "output_type": "execute_result"
    }
   ],
   "source": [
    "evaluate_model(model3, concatenated_tensor, Yact)"
   ]
  },
  {
   "cell_type": "code",
   "execution_count": null,
   "id": "afd10e65",
   "metadata": {},
   "outputs": [],
   "source": []
  },
  {
   "cell_type": "code",
   "execution_count": 52,
   "id": "c87ab432",
   "metadata": {},
   "outputs": [
    {
     "name": "stdout",
     "output_type": "stream",
     "text": [
      "16/16 [==============================] - 0s 1ms/step\n",
      "5-year performance (Label 1): 2.3235905154853658\n",
      "5-year performance Long on 1s cagr: 0.18367348433280317\n",
      "5-year performance (Label 0): 2.534755317417298\n",
      "5-year performance Long on Os cagr: 0.2044456530518972\n",
      "5-year performance LS: 0.8124661954608012\n",
      "5-year performance LS cagr: -0.04068538695608692\n"
     ]
    },
    {
     "data": {
      "image/png": "[encoded data removed]",
      "text/plain": [
       "<Figure size 432x288 with 1 Axes>"
      ]
     },
     "metadata": {
      "needs_background": "light"
     },
     "output_type": "display_data"
    }
   ],
   "source": [
    "import matplotlib.pyplot as plt\n",
    "\n",
    "\n",
    "# Create a list of metric names\n",
    "metrics = ['Accuracy', 'Label 1 cagr %', 'Label 0 cagr %', 'Long Short cagr %']\n",
    "\n",
    "cagr_Long, cagr_Short, cagr_LongShort = evaluate_model(model3, concatenated_tensor, Yact)\n",
    "\n",
    "# Create a list of metric scores\n",
    "scores = [accuracy, cagr_Long , cagr_Short , cagr_LongShort ]\n",
    "\n",
    "# Plot the bar chart\n",
    "plt.bar(metrics, scores)\n",
    "\n",
    "plt.xticks(rotation='vertical')\n",
    "\n",
    "# Display the score numbers on the bars\n",
    "for i, score in enumerate(scores):\n",
    "    plt.text(i, score + 0.01, str(round(score, 2)), ha='center')\n",
    "\n",
    "# Set the y-axis label\n",
    "plt.ylabel('Score')\n",
    "\n",
    "# Set the plot title\n",
    "plt.title('CNN Classifier Performance Scores')\n",
    "\n",
    "# Display the plot\n",
    "plt.show()"
   ]
  },
  {
   "cell_type": "markdown",
   "id": "66957d6c",
   "metadata": {},
   "source": [
    "# Appendix: Workings for future models"
   ]
  },
  {
   "cell_type": "code",
   "execution_count": null,
   "id": "360b1cec",
   "metadata": {},
   "outputs": [],
   "source": []
  }
 ],
 "metadata": {
  "kernelspec": {
   "display_name": "Python 3 (ipykernel)",
   "language": "python",
   "name": "python3"
  },
  "language_info": {
   "codemirror_mode": {
    "name": "ipython",
    "version": 3
   },
   "file_extension": ".py",
   "mimetype": "text/x-python",
   "name": "python",
   "nbconvert_exporter": "python",
   "pygments_lexer": "ipython3",
   "version": "3.9.7"
  }
 },
 "nbformat": 4,
 "nbformat_minor": 5
}
